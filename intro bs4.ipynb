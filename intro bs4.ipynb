{
 "cells": [
  {
   "cell_type": "code",
   "execution_count": 1,
   "metadata": {
    "run_control": {
     "frozen": false,
     "read_only": false
    }
   },
   "outputs": [],
   "source": [
    "import sys\n",
    "import requests\n",
    "import json"
   ]
  },
  {
   "cell_type": "code",
   "execution_count": 2,
   "metadata": {
    "run_control": {
     "frozen": false,
     "read_only": false
    }
   },
   "outputs": [],
   "source": [
    "from bs4 import BeautifulSoup as bs\n",
    "from contextlib import closing\n",
    "import urllib\n",
    "import re"
   ]
  },
  {
   "cell_type": "markdown",
   "metadata": {
    "run_control": {
     "frozen": false,
     "read_only": false
    }
   },
   "source": [
    "# BeautifulSoup\n",
    "https://www.crummy.com/software/BeautifulSoup/bs4/doc/"
   ]
  },
  {
   "cell_type": "markdown",
   "metadata": {
    "run_control": {
     "frozen": false,
     "read_only": false
    }
   },
   "source": [
    "<html>\n",
    "    <head>\n",
    "        <title>The Dormouse's story</title>\n",
    "    </head>\n",
    "    <body>\n",
    "        <p class=\"title\" name=\"dromouse\">\n",
    "            <b>\n",
    "                The Dormouse's story\n",
    "            </b>\n",
    "        </p>\n",
    "        <p class=\"story\">\n",
    "        Once upon a time there were three little sisters; and their names were\n",
    "            <a href=\"http://example.com/elsie\" class=\"sister\" id=\"link1\">\n",
    "            <!-- Elsie -->\n",
    "            </a>,\n",
    "            <a href=\"http://example.com/lacie\" class=\"sister\" id=\"link2\">\n",
    "            Lacie\n",
    "            </a> \n",
    "            and\n",
    "            <a href=\"http://example.com/tillie\" class=\"sister\" id=\"link3\">\n",
    "            Tillie\n",
    "            </a>;\n",
    "            and they lived at the bottom of a well.\n",
    "        </p>\n",
    "        <p class=\"story\">...</p>\n",
    "    </body>\n",
    "</html>"
   ]
  },
  {
   "cell_type": "markdown",
   "metadata": {
    "run_control": {
     "frozen": false,
     "read_only": false
    }
   },
   "source": [
    "[Internal Node] head\n",
    "[Internal Node] title\n",
    "[Leaf Node] The Dormouse's title\n",
    "[Internal Node] body\n",
    "[Internal Node] p\n",
    "[Internal Node] b\n",
    "[Leaf Node] The Dormouse's story\n",
    "[Internal Node] p\n",
    "[Leaf Node] Once upon a time there were three little sisters; and their names were\n",
    "\n",
    "[Internal Node] a\n",
    "[Leaf Node]  Elsie \n",
    "[Leaf Node] ,\n",
    "\n",
    "[Internal Node] a\n",
    "[Leaf Node] Lacie\n",
    "[Leaf Node]  and\n",
    "\n",
    "[Internal Node] a\n",
    "[Leaf Node] Tillie\n",
    "[Leaf Node] ;\n",
    "and they lived at the bottom of a well.\n",
    "[Internal Node] p\n",
    "[Leaf Node] ..."
   ]
  },
  {
   "cell_type": "code",
   "execution_count": 42,
   "metadata": {
    "run_control": {
     "frozen": false,
     "read_only": false
    }
   },
   "outputs": [],
   "source": [
    "html = \"\"\"\n",
    "<html><head><title>The Dormouse's title</title></head>\n",
    "<body>\n",
    "<p class=\"title\" name=\"dromouse\"><b>The Dormouse's story</b></p>\n",
    "<p class=\"story\">Once upon a time there were three little sisters; and their names were\n",
    "<a href=\"http://example.com/elsie\" class=\"sister\" id=\"link1\"><!-- Elsie --></a>,\n",
    "<a href=\"http://example.com/lacie\" class=\"sister\" id=\"link2\">Lacie</a> and\n",
    "<a href=\"http://example.com/tillie\" class=\"sister\" id=\"link3\">Tillie</a>;\n",
    "and they lived at the bottom of a well.</p>\n",
    "<p class=\"story\">...</p>\n",
    "</body>\n",
    "</html>\n",
    "\"\"\""
   ]
  },
  {
   "cell_type": "code",
   "execution_count": 4,
   "metadata": {},
   "outputs": [],
   "source": [
    "?bs"
   ]
  },
  {
   "cell_type": "code",
   "execution_count": 43,
   "metadata": {
    "run_control": {
     "frozen": false,
     "read_only": false
    }
   },
   "outputs": [],
   "source": [
    "soup = bs(html,'html.parser')"
   ]
  },
  {
   "cell_type": "code",
   "execution_count": 44,
   "metadata": {
    "run_control": {
     "frozen": false,
     "read_only": false
    }
   },
   "outputs": [
    {
     "name": "stdout",
     "output_type": "stream",
     "text": [
      "<html>\n",
      " <head>\n",
      "  <title>\n",
      "   The Dormouse's title\n",
      "  </title>\n",
      " </head>\n",
      " <body>\n",
      "  <p class=\"title\" name=\"dromouse\">\n",
      "   <b>\n",
      "    The Dormouse's story\n",
      "   </b>\n",
      "  </p>\n",
      "  <p class=\"story\">\n",
      "   Once upon a time there were three little sisters; and their names were\n",
      "   <a class=\"sister\" href=\"http://example.com/elsie\" id=\"link1\">\n",
      "    <!-- Elsie -->\n",
      "   </a>\n",
      "   ,\n",
      "   <a class=\"sister\" href=\"http://example.com/lacie\" id=\"link2\">\n",
      "    Lacie\n",
      "   </a>\n",
      "   and\n",
      "   <a class=\"sister\" href=\"http://example.com/tillie\" id=\"link3\">\n",
      "    Tillie\n",
      "   </a>\n",
      "   ;\n",
      "and they lived at the bottom of a well.\n",
      "  </p>\n",
      "  <p class=\"story\">\n",
      "   ...\n",
      "  </p>\n",
      " </body>\n",
      "</html>\n",
      "\n"
     ]
    }
   ],
   "source": [
    "print(soup.prettify())"
   ]
  },
  {
   "cell_type": "code",
   "execution_count": 8,
   "metadata": {
    "run_control": {
     "frozen": false,
     "read_only": false
    }
   },
   "outputs": [
    {
     "data": {
      "text/plain": [
       "\"\\nThe Dormouse's title\\n\\nThe Dormouse's story\\nOnce upon a time there were three little sisters; and their names were\\n,\\nLacie and\\nTillie;\\nand they lived at the bottom of a well.\\n...\\n\\n\\n\""
      ]
     },
     "execution_count": 8,
     "metadata": {},
     "output_type": "execute_result"
    }
   ],
   "source": [
    "soup.text"
   ]
  },
  {
   "cell_type": "code",
   "execution_count": 37,
   "metadata": {},
   "outputs": [],
   "source": [
    "?soup.find_all"
   ]
  },
  {
   "cell_type": "code",
   "execution_count": 50,
   "metadata": {
    "run_control": {
     "frozen": false,
     "read_only": false
    },
    "scrolled": true
   },
   "outputs": [
    {
     "name": "stdout",
     "output_type": "stream",
     "text": [
      "[<a class=\"sister\" href=\"http://example.com/elsie\" id=\"link1\"><!-- Elsie --></a>, <a class=\"sister\" href=\"http://example.com/lacie\" id=\"link2\">Lacie</a>, <a class=\"sister\" href=\"http://example.com/tillie\" id=\"link3\">Tillie</a>]\n",
      "<class 'bs4.element.ResultSet'>\n"
     ]
    }
   ],
   "source": [
    "all_a = soup.find_all(\"a\")\n",
    "print(all_a)\n",
    "print(type(all_a))\n"
   ]
  },
  {
   "cell_type": "code",
   "execution_count": 41,
   "metadata": {
    "run_control": {
     "frozen": false,
     "read_only": false
    }
   },
   "outputs": [
    {
     "data": {
      "text/plain": [
       "'/what-unions-do'"
      ]
     },
     "execution_count": 41,
     "metadata": {},
     "output_type": "execute_result"
    }
   ],
   "source": [
    "all_a[2][\"href\"]"
   ]
  },
  {
   "cell_type": "code",
   "execution_count": 51,
   "metadata": {
    "run_control": {
     "frozen": false,
     "read_only": false
    }
   },
   "outputs": [
    {
     "data": {
      "text/plain": [
       "bs4.element.Tag"
      ]
     },
     "execution_count": 51,
     "metadata": {},
     "output_type": "execute_result"
    }
   ],
   "source": [
    "type(soup.p)"
   ]
  },
  {
   "cell_type": "code",
   "execution_count": 53,
   "metadata": {},
   "outputs": [
    {
     "data": {
      "text/plain": [
       "['sister']"
      ]
     },
     "execution_count": 53,
     "metadata": {},
     "output_type": "execute_result"
    }
   ],
   "source": [
    "soup.a['class']"
   ]
  },
  {
   "cell_type": "code",
   "execution_count": 17,
   "metadata": {
    "run_control": {
     "frozen": false,
     "read_only": false
    }
   },
   "outputs": [],
   "source": [
    "# Depth First Search\n",
    "def recursiveChildren(x):\n",
    "    if \"childGenerator\" in dir(x):\n",
    "        for child in x.childGenerator():\n",
    "            name = getattr(child, \"name\", None)\n",
    "            if name is not None:\n",
    "                print(\"[Internal Node]\",child.name)\n",
    "            recursiveChildren(child)\n",
    "    else:\n",
    "        if not x.isspace(): #Just to avoid printing \"\\n\" parsed from document.\n",
    "            print(\"[Leaf Node]\",x)"
   ]
  },
  {
   "cell_type": "code",
   "execution_count": 18,
   "metadata": {
    "run_control": {
     "frozen": false,
     "read_only": false
    }
   },
   "outputs": [
    {
     "data": {
      "text/plain": [
       "\"\\nThe Dormouse's title\\n\\nThe Dormouse's story\\nOnce upon a time there were three little sisters; and their names were\\n,\\nLacie and\\nTillie;\\nand they lived at the bottom of a well.\\n...\\n\\n\\n\""
      ]
     },
     "execution_count": 18,
     "metadata": {},
     "output_type": "execute_result"
    }
   ],
   "source": [
    "soup.text"
   ]
  },
  {
   "cell_type": "code",
   "execution_count": 19,
   "metadata": {
    "run_control": {
     "frozen": false,
     "read_only": false
    }
   },
   "outputs": [
    {
     "name": "stdout",
     "output_type": "stream",
     "text": [
      "[Internal Node] head\n",
      "[Internal Node] title\n",
      "[Leaf Node] The Dormouse's title\n",
      "[Internal Node] body\n",
      "[Internal Node] p\n",
      "[Internal Node] b\n",
      "[Leaf Node] The Dormouse's story\n",
      "[Internal Node] p\n",
      "[Leaf Node] Once upon a time there were three little sisters; and their names were\n",
      "\n",
      "[Internal Node] a\n",
      "[Leaf Node]  Elsie \n",
      "[Leaf Node] ,\n",
      "\n",
      "[Internal Node] a\n",
      "[Leaf Node] Lacie\n",
      "[Leaf Node]  and\n",
      "\n",
      "[Internal Node] a\n",
      "[Leaf Node] Tillie\n",
      "[Leaf Node] ;\n",
      "and they lived at the bottom of a well.\n",
      "[Internal Node] p\n",
      "[Leaf Node] ...\n"
     ]
    }
   ],
   "source": [
    "for child in soup.childGenerator():\n",
    "    recursiveChildren(child)"
   ]
  },
  {
   "cell_type": "code",
   "execution_count": 20,
   "metadata": {
    "run_control": {
     "frozen": false,
     "read_only": false
    }
   },
   "outputs": [
    {
     "data": {
      "text/plain": [
       "<title>The Dormouse's title</title>"
      ]
     },
     "execution_count": 20,
     "metadata": {},
     "output_type": "execute_result"
    }
   ],
   "source": [
    "soup.title"
   ]
  },
  {
   "cell_type": "code",
   "execution_count": 21,
   "metadata": {
    "run_control": {
     "frozen": false,
     "read_only": false
    }
   },
   "outputs": [
    {
     "data": {
      "text/plain": [
       "<head><title>The Dormouse's title</title></head>"
      ]
     },
     "execution_count": 21,
     "metadata": {},
     "output_type": "execute_result"
    }
   ],
   "source": [
    "soup.head"
   ]
  },
  {
   "cell_type": "code",
   "execution_count": 22,
   "metadata": {
    "run_control": {
     "frozen": false,
     "read_only": false
    }
   },
   "outputs": [
    {
     "data": {
      "text/plain": [
       "<a class=\"sister\" href=\"http://example.com/elsie\" id=\"link1\"><!-- Elsie --></a>"
      ]
     },
     "execution_count": 22,
     "metadata": {},
     "output_type": "execute_result"
    }
   ],
   "source": [
    "soup.a"
   ]
  },
  {
   "cell_type": "code",
   "execution_count": 23,
   "metadata": {
    "run_control": {
     "frozen": false,
     "read_only": false
    }
   },
   "outputs": [
    {
     "data": {
      "text/plain": [
       "<p class=\"title\" name=\"dromouse\"><b>The Dormouse's story</b></p>"
      ]
     },
     "execution_count": 23,
     "metadata": {},
     "output_type": "execute_result"
    }
   ],
   "source": [
    "soup.p"
   ]
  },
  {
   "cell_type": "code",
   "execution_count": 25,
   "metadata": {
    "run_control": {
     "frozen": false,
     "read_only": false
    }
   },
   "outputs": [
    {
     "name": "stdout",
     "output_type": "stream",
     "text": [
      "The Dormouse's story\n",
      "<class 'str'>\n",
      "<class 'bs4.element.NavigableString'>\n"
     ]
    }
   ],
   "source": [
    "#NavigableString\n",
    "print(soup.p.string)\n",
    "print(type(soup.p.text))\n",
    "print(type(soup.p.string))"
   ]
  },
  {
   "cell_type": "code",
   "execution_count": 27,
   "metadata": {
    "run_control": {
     "frozen": false,
     "read_only": false
    }
   },
   "outputs": [
    {
     "data": {
      "text/plain": [
       "'[document]'"
      ]
     },
     "execution_count": 27,
     "metadata": {},
     "output_type": "execute_result"
    }
   ],
   "source": [
    "#（3）BeautifulSoup\n",
    "soup.name"
   ]
  },
  {
   "cell_type": "code",
   "execution_count": 24,
   "metadata": {
    "run_control": {
     "frozen": false,
     "read_only": false
    }
   },
   "outputs": [
    {
     "name": "stdout",
     "output_type": "stream",
     "text": [
      " Elsie \n"
     ]
    }
   ],
   "source": [
    "#Comment\n",
    "#print(soup.a)\n",
    "print(soup.a.string)\n",
    "#print(type(soup.a.string))"
   ]
  },
  {
   "cell_type": "code",
   "execution_count": 17,
   "metadata": {
    "run_control": {
     "frozen": false,
     "read_only": false
    }
   },
   "outputs": [
    {
     "data": {
      "text/plain": [
       "[<a class=\"sister\" href=\"http://example.com/elsie\" id=\"link1\"><!-- Elsie --></a>,\n",
       " <a class=\"sister\" href=\"http://example.com/lacie\" id=\"link2\">Lacie</a>,\n",
       " <a class=\"sister\" href=\"http://example.com/tillie\" id=\"link3\">Tillie</a>]"
      ]
     },
     "execution_count": 17,
     "metadata": {},
     "output_type": "execute_result"
    }
   ],
   "source": [
    "soup.find_all(\"a\")"
   ]
  },
  {
   "cell_type": "markdown",
   "metadata": {},
   "source": [
    "### HTML and the DOM\n",
    "The general idea behind web scraping is to retrieve data that exists on a website, and convert it into a format that is usable for analysis. Webpages are rendered by the brower from HTML and CSS code, but much of the information included in the HTML underlying any website is not interesting to us.\n",
    "We begin by reading in the source code for a given web page and creating a Beautiful Soup object with the BeautifulSoup function."
   ]
  },
  {
   "cell_type": "code",
   "execution_count": 35,
   "metadata": {},
   "outputs": [
    {
     "name": "stdout",
     "output_type": "stream",
     "text": [
      "<class 'bs4.BeautifulSoup'>\n"
     ]
    }
   ],
   "source": [
    "from bs4 import BeautifulSoup\n",
    "import urllib.request \n",
    "import requests\n",
    "\n",
    "r = requests.get('http://www.aflcio.org/Legislation-and-Politics/Legislative-Alerts')\n",
    "\n",
    "soup = BeautifulSoup(r.text)\n",
    "print(type(soup))"
   ]
  },
  {
   "cell_type": "code",
   "execution_count": 36,
   "metadata": {},
   "outputs": [
    {
     "data": {
      "text/plain": [
       "<!DOCTYPE html>\n",
       "<html dir=\"ltr\" lang=\"en\" prefix=\"content: http://purl.org/rss/1.0/modules/content/  dc: http://purl.org/dc/terms/  foaf: http://xmlns.com/foaf/0.1/  og: http://ogp.me/ns#  rdfs: http://www.w3.org/2000/01/rdf-schema#  schema: http://schema.org/  sioc: http://rdfs.org/sioc/ns#  sioct: http://rdfs.org/sioc/types#  skos: http://www.w3.org/2004/02/skos/core#  xsd: http://www.w3.org/2001/XMLSchema# \">\n",
       "<head>\n",
       "<meta charset=\"utf-8\"/><script type=\"text/javascript\">window.NREUM||(NREUM={}),__nr_require=function(e,n,t){function r(t){if(!n[t]){var o=n[t]={exports:{}};e[t][0].call(o.exports,function(n){var o=e[t][1][n];return r(o||n)},o,o.exports)}return n[t].exports}if(\"function\"==typeof __nr_require)return __nr_require;for(var o=0;o<t.length;o++)r(t[o]);return r}({1:[function(e,n,t){function r(){}function o(e,n,t){return function(){return i(e,[c.now()].concat(u(arguments)),n?null:this,t),n?void 0:this}}var i=e(\"handle\"),a=e(3),u=e(4),f=e(\"ee\").get(\"tracer\"),c=e(\"loader\"),s=NREUM;\"undefined\"==typeof window.newrelic&&(newrelic=s);var p=[\"setPageViewName\",\"setCustomAttribute\",\"setErrorHandler\",\"finished\",\"addToTrace\",\"inlineHit\",\"addRelease\"],d=\"api-\",l=d+\"ixn-\";a(p,function(e,n){s[n]=o(d+n,!0,\"api\")}),s.addPageAction=o(d+\"addPageAction\",!0),s.setCurrentRouteName=o(d+\"routeName\",!0),n.exports=newrelic,s.interaction=function(){return(new r).get()};var m=r.prototype={createTracer:function(e,n){var t={},r=this,o=\"function\"==typeof n;return i(l+\"tracer\",[c.now(),e,t],r),function(){if(f.emit((o?\"\":\"no-\")+\"fn-start\",[c.now(),r,o],t),o)try{return n.apply(this,arguments)}catch(e){throw f.emit(\"fn-err\",[arguments,this,e],t),e}finally{f.emit(\"fn-end\",[c.now()],t)}}}};a(\"actionText,setName,setAttribute,save,ignore,onEnd,getContext,end,get\".split(\",\"),function(e,n){m[n]=o(l+n)}),newrelic.noticeError=function(e,n){\"string\"==typeof e&&(e=new Error(e)),i(\"err\",[e,c.now(),!1,n])}},{}],2:[function(e,n,t){function r(e,n){if(!o)return!1;if(e!==o)return!1;if(!n)return!0;if(!i)return!1;for(var t=i.split(\".\"),r=n.split(\".\"),a=0;a<r.length;a++)if(r[a]!==t[a])return!1;return!0}var o=null,i=null,a=/Version\\/(\\S+)\\s+Safari/;if(navigator.userAgent){var u=navigator.userAgent,f=u.match(a);f&&u.indexOf(\"Chrome\")===-1&&u.indexOf(\"Chromium\")===-1&&(o=\"Safari\",i=f[1])}n.exports={agent:o,version:i,match:r}},{}],3:[function(e,n,t){function r(e,n){var t=[],r=\"\",i=0;for(r in e)o.call(e,r)&&(t[i]=n(r,e[r]),i+=1);return t}var o=Object.prototype.hasOwnProperty;n.exports=r},{}],4:[function(e,n,t){function r(e,n,t){n||(n=0),\"undefined\"==typeof t&&(t=e?e.length:0);for(var r=-1,o=t-n||0,i=Array(o<0?0:o);++r<o;)i[r]=e[n+r];return i}n.exports=r},{}],5:[function(e,n,t){n.exports={exists:\"undefined\"!=typeof window.performance&&window.performance.timing&&\"undefined\"!=typeof window.performance.timing.navigationStart}},{}],ee:[function(e,n,t){function r(){}function o(e){function n(e){return e&&e instanceof r?e:e?f(e,u,i):i()}function t(t,r,o,i){if(!d.aborted||i){e&&e(t,r,o);for(var a=n(o),u=v(t),f=u.length,c=0;c<f;c++)u[c].apply(a,r);var p=s[y[t]];return p&&p.push([b,t,r,a]),a}}function l(e,n){h[e]=v(e).concat(n)}function m(e,n){var t=h[e];if(t)for(var r=0;r<t.length;r++)t[r]===n&&t.splice(r,1)}function v(e){return h[e]||[]}function g(e){return p[e]=p[e]||o(t)}function w(e,n){c(e,function(e,t){n=n||\"feature\",y[t]=n,n in s||(s[n]=[])})}var h={},y={},b={on:l,addEventListener:l,removeEventListener:m,emit:t,get:g,listeners:v,context:n,buffer:w,abort:a,aborted:!1};return b}function i(){return new r}function a(){(s.api||s.feature)&&(d.aborted=!0,s=d.backlog={})}var u=\"nr@context\",f=e(\"gos\"),c=e(3),s={},p={},d=n.exports=o();d.backlog=s},{}],gos:[function(e,n,t){function r(e,n,t){if(o.call(e,n))return e[n];var r=t();if(Object.defineProperty&&Object.keys)try{return Object.defineProperty(e,n,{value:r,writable:!0,enumerable:!1}),r}catch(i){}return e[n]=r,r}var o=Object.prototype.hasOwnProperty;n.exports=r},{}],handle:[function(e,n,t){function r(e,n,t,r){o.buffer([e],r),o.emit(e,n,t)}var o=e(\"ee\").get(\"handle\");n.exports=r,r.ee=o},{}],id:[function(e,n,t){function r(e){var n=typeof e;return!e||\"object\"!==n&&\"function\"!==n?-1:e===window?0:a(e,i,function(){return o++})}var o=1,i=\"nr@id\",a=e(\"gos\");n.exports=r},{}],loader:[function(e,n,t){function r(){if(!E++){var e=x.info=NREUM.info,n=l.getElementsByTagName(\"script\")[0];if(setTimeout(s.abort,3e4),!(e&&e.licenseKey&&e.applicationID&&n))return s.abort();c(y,function(n,t){e[n]||(e[n]=t)}),f(\"mark\",[\"onload\",a()+x.offset],null,\"api\");var t=l.createElement(\"script\");t.src=\"https://\"+e.agent,n.parentNode.insertBefore(t,n)}}function o(){\"complete\"===l.readyState&&i()}function i(){f(\"mark\",[\"domContent\",a()+x.offset],null,\"api\")}function a(){return O.exists&&performance.now?Math.round(performance.now()):(u=Math.max((new Date).getTime(),u))-x.offset}var u=(new Date).getTime(),f=e(\"handle\"),c=e(3),s=e(\"ee\"),p=e(2),d=window,l=d.document,m=\"addEventListener\",v=\"attachEvent\",g=d.XMLHttpRequest,w=g&&g.prototype;NREUM.o={ST:setTimeout,SI:d.setImmediate,CT:clearTimeout,XHR:g,REQ:d.Request,EV:d.Event,PR:d.Promise,MO:d.MutationObserver};var h=\"\"+location,y={beacon:\"bam.nr-data.net\",errorBeacon:\"bam.nr-data.net\",agent:\"js-agent.newrelic.com/nr-1123.min.js\"},b=g&&w&&w[m]&&!/CriOS/.test(navigator.userAgent),x=n.exports={offset:u,now:a,origin:h,features:{},xhrWrappable:b,userAgent:p};e(1),l[m]?(l[m](\"DOMContentLoaded\",i,!1),d[m](\"load\",r,!1)):(l[v](\"onreadystatechange\",o),d[v](\"onload\",r)),f(\"mark\",[\"firstbyte\",u],null,\"api\");var E=0,O=e(5)},{}]},{},[\"loader\"]);</script>\n",
       "<script>var dataLayer = [{\"drupalLanguage\":\"en\",\"drupalCountry\":\"US\",\"siteName\":\"AFL-CIO\",\"entityType\":\"node\",\"entityBundle\":\"page\",\"entityId\":\"96\",\"entityTitle\":\"Legislative Alerts\",\"entityLangcode\":\"en\",\"entityVid\":\"6169\",\"entityUid\":\"3\",\"entityCreated\":\"1488916791\",\"entityStatus\":\"1\",\"entityName\":\"Dennis Loney\",\"userUid\":0}];</script>\n",
       "<meta content=\"Legislative Alerts | AFL-CIO\" name=\"title\"/>\n",
       "<meta content=\"summary\" name=\"twitter:card\"/>\n",
       "<meta content=\"Legislative Alerts | AFL-CIO\" name=\"twitter:title\"/>\n",
       "<meta content=\"@aflcio\" name=\"twitter:site\"/>\n",
       "<meta content=\"This page lists the letters submitted to our elected officials on proposed legislation or regulations. Our legislative efforts help working people earn better wages, retirement security, safe work environments, broad access to quality education for our children and much more.\" name=\"twitter:description\"/>\n",
       "<meta content=\"This page lists the letters submitted to our elected officials on proposed legislation or regulations. Our legislative efforts help working people earn better wages, retirement security, safe work environments, broad access to quality education for our children and much more.\" name=\"description\"/>\n",
       "<meta content=\"This page lists the letters submitted to our elected officials on proposed legislation or regulations. Our legislative efforts help working people earn better wages, retirement security, safe work environments, broad access to quality education for our children and much more.\" property=\"og:description\"/>\n",
       "<meta content=\"Drupal 8 (https://www.drupal.org)\" name=\"Generator\"/>\n",
       "<meta content=\"width\" name=\"MobileOptimized\"/>\n",
       "<meta content=\"true\" name=\"HandheldFriendly\"/>\n",
       "<meta content=\"width=device-width, initial-scale=1.0\" name=\"viewport\"/>\n",
       "<link href=\"/themes/custom/afl/favicon.ico\" rel=\"shortcut icon\" type=\"image/vnd.microsoft.icon\"/>\n",
       "<link href=\"/what-unions-do/social-economic-justice/advocacy/legislative-alerts\" rel=\"canonical\"/>\n",
       "<link href=\"/node/96\" rel=\"shortlink\"/>\n",
       "<link href=\"/what-unions-do/social-economic-justice/advocacy/legislative-alerts\" rel=\"revision\"/>\n",
       "<style>.async-hide { opacity: 0 !important}</style>\n",
       "<script>(function(a,s,y,n,c,h,i,d,e){s.className+=' '+y;\n",
       "h.end=i=function(){s.className=s.className.replace(RegExp(' ?'+y),'')};\n",
       "(a[n]=a[n]||[]).hide=h;setTimeout(function(){i();h.end=null},c);\n",
       "})(window,document.documentElement,'async-hide','dataLayer',4000,{'GTM-5NLCHW5':true});</script>\n",
       "<script src=\"/sites/default/files/google_tag/google_tag.script.js?pqjaky\"></script>\n",
       "<link href=\"/themes/custom/afl/images/favicons/apple-touch-icon.png\" rel=\"apple-touch-icon\" sizes=\"180x180\"/>\n",
       "<link href=\"/themes/custom/afl/images/favicons/favicon-32x32.png\" rel=\"icon\" sizes=\"32x32\" type=\"image/png\"/>\n",
       "<link href=\"/themes/custom/afl/images/favicons/favicon-16x16.png\" rel=\"icon\" sizes=\"16x16\" type=\"image/png\"/>\n",
       "<link href=\"/themes/custom/afl/images/favicons/manifest.json\" rel=\"manifest\"/>\n",
       "<link color=\"#5bbad5\" href=\"/themes/custom/afl/images/favicons/safari-pinned-tab.svg\" rel=\"mask-icon\"/>\n",
       "<meta content=\"/themes/custom/afl/images/favicons/browserconfig.xml\" name=\"msapplication-config\"/>\n",
       "<meta content=\"#115e67\" name=\"theme-color\"/>\n",
       "<title>Legislative Alerts | AFL-CIO</title>\n",
       "<link href=\"/sites/default/files/css/css_nz7W5oTQr69820awfFjxZkO4a-mRhXb5GQr7skVeRQc.css?pqjaky\" media=\"all\" rel=\"stylesheet\"/>\n",
       "<link href=\"/sites/default/files/css/css_pFkAtkhBQRlqYCtU3oJyMO6OJSNElJfaPmzY4La3VDM.css?pqjaky\" media=\"all\" rel=\"stylesheet\"/>\n",
       "<!--[if lte IE 8]>\n",
       "<script src=\"/sites/default/files/js/js_VtafjXmRvoUgAzqzYTA3Wrjkx9wcWhjP0G4ZnnqRamA.js\"></script>\n",
       "<![endif]-->\n",
       "</head>\n",
       "<body class=\"page-node-type-page\">\n",
       "<a class=\"visually-hidden focusable\" href=\"#main-content\">\n",
       "      Skip to main content\n",
       "    </a>\n",
       "<noscript><iframe height=\"0\" src=\"https://www.googletagmanager.com/ns.html?id=GTM-5NLCHW5\" width=\"0\"></iframe></noscript>\n",
       "<div class=\"dialog-off-canvas-main-canvas\" data-off-canvas-main-canvas=\"\">\n",
       "<div class=\"page layout-container\" id=\"page\">\n",
       "<header class=\"site-header cf\" role=\"banner\">\n",
       "<nav class=\"navbar mobile-navbar sticky-navbar\">\n",
       "<!-- MOBILE SEARCH -->\n",
       "<div class=\"collapse\" id=\"mobile-search\">\n",
       "<div class=\"container-fluid\">\n",
       "<div class=\"row\">\n",
       "<div class=\"col-12\">\n",
       "<form accept-charset=\"UTF-8\" action=\"/search\" class=\"search-form\" id=\"views-exposed-form-search-search\" method=\"get\">\n",
       "<div class=\"input-group\">\n",
       "<label class=\"sr-only\" for=\"search-field\">Search</label>\n",
       "<input class=\"form-control search-field\" data-drupal-selector=\"edit-s\" id=\"edit-s\" name=\"s\" placeholder=\"Search\" type=\"search\"/>\n",
       "<span class=\"input-group-btn\">\n",
       "<button class=\"btn btn-success button js-form-submit form-submit\" data-drupal-selector=\"edit-submit-search\" id=\"edit-submit-search\" type=\"submit\" value=\"Search\">\n",
       "<span aria-hidden=\"true\" class=\"afl-icon afl-icon-search\"></span>\n",
       "<span class=\"sr-only\">Search</span>\n",
       "</button>\n",
       "</span>\n",
       "</div>\n",
       "</form>\n",
       "</div>\n",
       "</div>\n",
       "</div>\n",
       "</div>\n",
       "<!-- MOBILE HEADER -->\n",
       "<div class=\"container-fluid mobile-header\">\n",
       "<div class=\"row\">\n",
       "<div class=\"col-2\">\n",
       "<button aria-controls=\"navbarResponsive\" aria-expanded=\"false\" aria-label=\"Toggle navigation\" class=\"navbar-toggler collapsed pull-left\" data-target=\"#mobile-nav\" data-toggle=\"collapse\" type=\"button\">\n",
       "<span class=\"fa fa-bars\"></span>\n",
       "</button>\n",
       "</div>\n",
       "<div class=\"col-8 align-self-center\">\n",
       "<div class=\"text-center nav-brand\">\n",
       "<a href=\"/\" rel=\"home\" title=\"AFL-CIO\">\n",
       "<img alt=\"AFL-CIO\" class=\"main-logo\" src=\"/themes/custom/afl/source/images/logo.svg\"/>\n",
       "</a>\n",
       "</div>\n",
       "</div>\n",
       "<div class=\"col-2\">\n",
       "<button aria-controls=\"navbarResponsive\" aria-expanded=\"false\" aria-label=\"Toggle navigation\" class=\"navbar-toggler collapsed pull-right btn-mobile-search\" data-target=\"#mobile-search\" data-toggle=\"collapse\" type=\"button\">\n",
       "<span class=\"afl-icon afl-icon-search\"></span>\n",
       "<span class=\"close-search-form\">×</span>\n",
       "</button>\n",
       "</div>\n",
       "</div>\n",
       "</div>\n",
       "<div class=\"container-fluid collapse navbar-collapse font-secondary\" id=\"mobile-nav\">\n",
       "<ul class=\"nav navbar-nav\">\n",
       "<li class=\"nav-item\">\n",
       "<a class=\"nav-link\" data-drupal-link-system-path=\"node/8\" href=\"/what-unions-do\">What Unions Do</a>\n",
       "</li>\n",
       "<li class=\"nav-item\">\n",
       "<a class=\"nav-link\" data-drupal-link-system-path=\"node/9\" href=\"/formaunion\">Form a Union</a>\n",
       "</li>\n",
       "</ul>\n",
       "<ul class=\"nav navbar-nav\">\n",
       "<li class=\"nav-item\">\n",
       "<a class=\"nav-link\" data-drupal-link-system-path=\"node/10\" href=\"/issues\">What We Care About</a>\n",
       "</li>\n",
       "<li class=\"nav-item\">\n",
       "<a class=\"nav-link\" data-drupal-link-system-path=\"node/11\" href=\"/take-action\">Take Action</a>\n",
       "</li>\n",
       "</ul>\n",
       "<!-- TOP NAV IN MOBILE -->\n",
       "<div class=\"row top-mobile-nav\">\n",
       "<div class=\"nav-leaf nav-leaf-left col-12 col-md-6\">\n",
       "<ul class=\"nav navbar-nav\">\n",
       "<li class=\"nav-item\">\n",
       "<a class=\"nav-link\" data-drupal-link-system-path=\"node/3\" href=\"/about-us\">About Us</a>\n",
       "</li>\n",
       "<li class=\"nav-item\">\n",
       "<a class=\"nav-link\" data-drupal-link-system-path=\"node/5\" href=\"/blog\">Blog</a>\n",
       "</li>\n",
       "<li class=\"nav-item\">\n",
       "<a class=\"nav-link\" data-drupal-link-system-path=\"node/4\" href=\"/press\">Press</a>\n",
       "</li>\n",
       "<li class=\"nav-item\">\n",
       "<a class=\"nav-link\" data-drupal-link-system-path=\"node/7\" href=\"/aflciotv\">AFLCIO.tv</a>\n",
       "</li>\n",
       "<li class=\"nav-item\">\n",
       "<a class=\"nav-link\" data-drupal-link-system-path=\"node/6\" href=\"/union-plus-benefits\">Union Plus Benefits</a>\n",
       "</li>\n",
       "</ul>\n",
       "</div>\n",
       "</div>\n",
       "</div>\n",
       "<div class=\"hidden-sm-down\" id=\"breadcrumbs\">\n",
       "<nav aria-labelledby=\"system-breadcrumb\" role=\"navigation\">\n",
       "<h2 class=\"visually-hidden\" id=\"system-breadcrumb\">Breadcrumb</h2>\n",
       "<ol>\n",
       "<li>\n",
       "<a href=\"/\">Home</a>\n",
       "</li>\n",
       "<li>\n",
       "<a href=\"/what-unions-do\">What Unions Do</a>\n",
       "</li>\n",
       "<li>\n",
       "<a href=\"/what-unions-do/social-economic-justice\">Advocate for Social and Economic Justice</a>\n",
       "</li>\n",
       "<li>\n",
       "<a href=\"/what-unions-do/social-economic-justice/advocacy\">Advocacy</a>\n",
       "</li>\n",
       "<li>\n",
       "                  Legislative Alerts\n",
       "              </li>\n",
       "</ol>\n",
       "</nav>\n",
       "</div>\n",
       "</nav>\n",
       "<nav class=\"navbar desktop-navbar\">\n",
       "<!-- TOP NAVIGATION -->\n",
       "<div class=\"top-nav hidden-md-down\" id=\"top-nav\">\n",
       "<div class=\"container\">\n",
       "<div class=\"row\">\n",
       "<div class=\"nav-leaf nav-leaf-left col-12 col-md-6\">\n",
       "<ul class=\"nav navbar-nav\">\n",
       "<li class=\"nav-item\">\n",
       "<a class=\"nav-link\" data-drupal-link-system-path=\"node/3\" href=\"/about-us\">About Us</a>\n",
       "</li>\n",
       "<li class=\"nav-item\">\n",
       "<a class=\"nav-link\" data-drupal-link-system-path=\"node/5\" href=\"/blog\">Blog</a>\n",
       "</li>\n",
       "<li class=\"nav-item\">\n",
       "<a class=\"nav-link\" data-drupal-link-system-path=\"node/4\" href=\"/press\">Press</a>\n",
       "</li>\n",
       "<li class=\"nav-item\">\n",
       "<a class=\"nav-link\" data-drupal-link-system-path=\"node/7\" href=\"/aflciotv\">AFLCIO.tv</a>\n",
       "</li>\n",
       "<li class=\"nav-item\">\n",
       "<a class=\"nav-link\" data-drupal-link-system-path=\"node/6\" href=\"/union-plus-benefits\">Union Plus Benefits</a>\n",
       "</li>\n",
       "</ul>\n",
       "</div>\n",
       "</div>\n",
       "</div>\n",
       "</div>\n",
       "<!--end .nav-->\n",
       "<div class=\"social-search-nav hidden-md-down\">\n",
       "<div class=\"container\">\n",
       "<div class=\"row align-items-center\">\n",
       "<div class=\"col-8 nav-leaf justify-content-start\">\n",
       "<ul class=\"nav navbar-nav social-follow\">\n",
       "<li class=\"list-inline-item facebook\">\n",
       "<a href=\"https://www.facebook.com/aflcio\" target=\"_blank\" title=\"Like us on facebook\"><span class=\"fa fa-facebook\"></span></a>\n",
       "</li>\n",
       "<li class=\"list-inline-item twitter\">\n",
       "<a href=\"https://twitter.com/AFLCIO\" target=\"_blank\" title=\"Follow us on Twitter\"><span class=\"fa fa-twitter\"></span></a>\n",
       "</li>\n",
       "<li class=\"list-inline-item youtube\">\n",
       "<a href=\"https://www.youtube.com/aflcio?sub_confirmation=1\" target=\"_blank\" title=\"Follow us on YouTube\"><span class=\"fa fa-youtube\"></span></a>\n",
       "</li>\n",
       "<li class=\"list-inline-item flickr\">\n",
       "<a href=\"https://www.flickr.com/photos/afl-cio/\" target=\"_blank\" title=\"Follow us on Flickr\"><span class=\"fa fa-flickr\"></span></a>\n",
       "</li>\n",
       "</ul>\n",
       "</div>\n",
       "<div class=\"col-4 nav-leaf justify-content-end\">\n",
       "<div class=\"search-dropdown\">\n",
       "<a class=\"dropdown-toggle\" data-toggle=\"dropdown\" href=\"#\"><span class=\"afl-icon afl-icon-search\"></span><span class=\"sr-only\">Toggle Search Form</span></a>\n",
       "<div class=\"dropdown-menu\">\n",
       "<form accept-charset=\"UTF-8\" action=\"/search\" class=\"search-form\" id=\"views-exposed-form-search-search\" method=\"get\">\n",
       "<div class=\"input-group\">\n",
       "<label class=\"sr-only\" for=\"search-field\">Search</label>\n",
       "<input class=\"form-control search-field\" data-drupal-selector=\"edit-s\" id=\"edit-s\" name=\"s\" placeholder=\"Search\" type=\"search\"/>\n",
       "<span class=\"input-group-btn\">\n",
       "<button class=\"btn btn-success button js-form-submit form-submit\" data-drupal-selector=\"edit-submit-search\" id=\"edit-submit-search\" type=\"submit\" value=\"Search\">\n",
       "<span aria-hidden=\"true\" class=\"afl-icon afl-icon-search\"></span>\n",
       "<span class=\"sr-only\">Search</span>\n",
       "</button>\n",
       "</span>\n",
       "</div>\n",
       "</form>\n",
       "</div>\n",
       "</div>\n",
       "</div>\n",
       "</div>\n",
       "</div>\n",
       "</div>\n",
       "<div class=\"main-nav font-secondary\">\n",
       "<!-- MAIN HEADER -->\n",
       "<div id=\"main-navbar\">\n",
       "<div class=\"container\">\n",
       "<!-- MAIN NAV IN MOBILE -->\n",
       "<div class=\"row\">\n",
       "<div class=\"col-12 col-lg-4 nav-leaf nav-leaf-left align-self-end\">\n",
       "<ul class=\"nav navbar-nav\">\n",
       "<li class=\"nav-item\">\n",
       "<a class=\"nav-link\" data-drupal-link-system-path=\"node/8\" href=\"/what-unions-do\">What Unions Do</a>\n",
       "</li>\n",
       "<li class=\"nav-item\">\n",
       "<a class=\"nav-link\" data-drupal-link-system-path=\"node/9\" href=\"/formaunion\">Form a Union</a>\n",
       "</li>\n",
       "</ul>\n",
       "</div>\n",
       "<div class=\"col-12 col-lg-4 nav-leaf text-center hidden-md-down nav-brand align-self-center\">\n",
       "<a href=\"/\" rel=\"home\" title=\"AFL-CIO\">\n",
       "<img alt=\"AFL-CIO\" class=\"main-logo\" src=\"/themes/custom/afl/source/images/logo.svg\"/>\n",
       "</a>\n",
       "</div>\n",
       "<div class=\"col-12 col-lg-4 nav-leaf nav-leaf-right align-self-end\">\n",
       "<ul class=\"nav navbar-nav\">\n",
       "<li class=\"nav-item\">\n",
       "<a class=\"nav-link\" data-drupal-link-system-path=\"node/10\" href=\"/issues\">What We Care About</a>\n",
       "</li>\n",
       "<li class=\"nav-item\">\n",
       "<a class=\"nav-link\" data-drupal-link-system-path=\"node/11\" href=\"/take-action\">Take Action</a>\n",
       "</li>\n",
       "</ul>\n",
       "</div>\n",
       "</div>\n",
       "</div>\n",
       "</div>\n",
       "</div>\n",
       "</nav>\n",
       "</header>\n",
       "<main role=\"main\">\n",
       "<a id=\"main-content\" tabindex=\"-1\"></a>\n",
       "<div class=\"layout-content\">\n",
       "<div id=\"block-afl-page-title\">\n",
       "</div>\n",
       "<div id=\"block-afl-content\">\n",
       "<article about=\"/what-unions-do/social-economic-justice/advocacy/legislative-alerts\" class=\"section section-page-body\" role=\"article\" typeof=\"schema:WebPage\">\n",
       "<span class=\"hidden\" content=\"Legislative Alerts\" property=\"schema:name\"></span>\n",
       "<div class=\"paragraph paragraph--type--section paragraph--view-mode--default section featured-vics col-12 section-athens section-1col page-banner\" id=\"legislative-alerts\">\n",
       "<div class=\"row\">\n",
       "<div class=\"col-12 section-header issues-header\">\n",
       "<h1 class=\"section-title text-center\">Legislative Alerts</h1>\n",
       "</div>\n",
       "</div>\n",
       "</div>\n",
       "<div class=\"paragraph paragraph--type--tiles paragraph--view-mode--default container\">\n",
       "<div class=\"row\">\n",
       "<div class=\"views-element-container\"><div class=\"view view-tiles view-display-full-listing js-view-dom-id-35be676d99c0b5d7d9528fe89c18b18d4b00ed3d6ad8e5617fca414d36383c73 container\">\n",
       "<form accept-charset=\"UTF-8\" action=\"/what-unions-do/social-economic-justice/advocacy/legislative-alerts\" class=\"views-exposed-form views-auto-submit-full-form row\" data-drupal-selector=\"views-exposed-form-tiles-full-listing\" id=\"views-exposed-form-tiles-full-listing\" method=\"get\">\n",
       "<div class=\"js-form-item form-item form-type-select js-form-type-select form-item-tid js-form-item-tid form-no-label\">\n",
       "<div class=\"form-group\">\n",
       "<select class=\"form-select form-control custom-select\" data-drupal-selector=\"edit-tid\" id=\"edit-tid\" name=\"tid\"><option selected=\"selected\" value=\"All\">Select Issue</option><option value=\"2102\">Better Pay and Benefits</option><option value=\"2111\">Civil Rights</option><option value=\"2115\">Corporate Greed</option><option value=\"2085\">Criminal Justice Reform</option><option value=\"3190\">Future of Work</option><option value=\"2124\">Gender Equality</option><option value=\"2146\">Global Worker Rights</option><option value=\"2106\">Health Care</option><option value=\"2206\">Immigration</option><option value=\"2254\">Infrastructure</option><option value=\"2099\">Labor Law</option><option value=\"2431\">Manufacturing</option><option value=\"3050\">Quality Education</option><option value=\"2285\">Right to Work</option><option value=\"3172\">Sexual Harassment</option><option value=\"2123\">Social Security and Retirement</option><option value=\"3163\">Tax and Budget Policy</option><option value=\"2094\">Trade</option><option value=\"2190\">Workplace Health and Safety</option></select>\n",
       "</div>\n",
       "</div>\n",
       "<div class=\"form-actions js-form-wrapper form-wrapper col-6\" data-drupal-selector=\"edit-actions\" id=\"edit-actions\"><button class=\"views-use-ajax views-auto-submit-click js-hide button js-form-submit form-submit btn btn-primary btn-arrow w-100\" data-drupal-selector=\"edit-submit-tiles\" id=\"edit-submit-tiles\" type=\"submit\" value=\"Apply\">Apply</button>\n",
       "</div>\n",
       "</form>\n",
       "<div class=\"views-infinite-scroll-content-wrapper clearfix\" data-drupal-views-infinite-scroll-content-wrapper=\"\">\n",
       "<div class=\"row\">\n",
       "<div class=\"block block-content col-12 col-lg-4\">\n",
       "<div class=\"content-details \">\n",
       "<a class=\"b-inner\" href=\"/aboutadvocacylegislative-alerts/letter-representatives-support-dream-and-american-promise-act-2019\">\n",
       "<div class=\"b-text\">\n",
       "<h5 class=\"content-type\">Legislative Alert</h5>\n",
       "<h2 class=\"content-title\"><span>Letter to Representatives in Support of the Dream and American Promise Act of 2019</span>\n",
       "</h2>\n",
       "<time datetime=\"2019-06-03T13:51:36-0400\">June 3, 2019</time>\n",
       "</div>\n",
       "</a>\n",
       "<div></div>\n",
       "</div>\n",
       "</div>\n",
       "<div class=\"block block-content col-12 col-lg-4\">\n",
       "<div class=\"content-details \">\n",
       "<a class=\"b-inner\" href=\"/aboutadvocacylegislative-alerts/letter-senators-opposing-nomination-rossie-alston-us-court-appeals\">\n",
       "<div class=\"b-text\">\n",
       "<h5 class=\"content-type\">Legislative Alert</h5>\n",
       "<h2 class=\"content-title\"><span>Letter to Senators Opposing the Nomination of Rossie Alston to the U.S. Court of Appeals for the Eastern District of Virginia</span>\n",
       "</h2>\n",
       "<time datetime=\"2019-06-03T13:35:45-0400\">June 3, 2019</time>\n",
       "</div>\n",
       "</a>\n",
       "<div></div>\n",
       "</div>\n",
       "</div>\n",
       "<div class=\"block block-content col-12 col-lg-4\">\n",
       "<div class=\"content-details \">\n",
       "<a class=\"b-inner\" href=\"/aboutadvocacylegislative-alerts/letter-senators-opposing-nomination-matthew-kacsmaryk-us-district\">\n",
       "<div class=\"b-text\">\n",
       "<h5 class=\"content-type\">Legislative Alert</h5>\n",
       "<h2 class=\"content-title\"><span>Letter to Senators Opposing the Nomination of Matthew Kacsmaryk to the U.S. District Court for the Northern District of Texas</span>\n",
       "</h2>\n",
       "<time datetime=\"2019-05-31T13:43:43-0400\">May 31, 2019</time>\n",
       "</div>\n",
       "</a>\n",
       "<div></div>\n",
       "</div>\n",
       "</div>\n",
       "<div class=\"block block-content col-12 col-lg-4\">\n",
       "<div class=\"content-details \">\n",
       "<a class=\"b-inner\" href=\"/aboutadvocacylegislative-alerts/letter-opposing-howard-nielsons-appointment-district-court\">\n",
       "<div class=\"b-text\">\n",
       "<h5 class=\"content-type\">Legislative Alert</h5>\n",
       "<h2 class=\"content-title\"><span>Letter Opposing Howard Nielson's Appointment to District Court</span>\n",
       "</h2>\n",
       "<time datetime=\"2019-05-21T12:32:48-0400\">May 21, 2019</time>\n",
       "</div>\n",
       "</a>\n",
       "<div></div>\n",
       "</div>\n",
       "</div>\n",
       "<div class=\"block block-content col-12 col-lg-4\">\n",
       "<div class=\"content-details \">\n",
       "<a class=\"b-inner\" href=\"/aboutadvocacylegislative-alerts/letter-opposing-nomination-daniel-collins-appeals-court\">\n",
       "<div class=\"b-text\">\n",
       "<h5 class=\"content-type\">Legislative Alert</h5>\n",
       "<h2 class=\"content-title\"><span>Letter Opposing Nomination of Daniel Collins to Appeals Court</span>\n",
       "</h2>\n",
       "<time datetime=\"2019-05-21T12:30:01-0400\">May 21, 2019</time>\n",
       "</div>\n",
       "</a>\n",
       "<div></div>\n",
       "</div>\n",
       "</div>\n",
       "<div class=\"block block-content col-12 col-lg-4\">\n",
       "<div class=\"content-details \">\n",
       "<a class=\"b-inner\" href=\"/aboutadvocacylegislative-alerts/letter-senators-opposing-nomination-kenneth-lee-us-court-appeals\">\n",
       "<div class=\"b-text\">\n",
       "<h5 class=\"content-type\">Legislative Alert</h5>\n",
       "<h2 class=\"content-title\"><span>Letter to Senators Opposing Nomination of Kenneth Lee to the U.S. Court of Appeals Ninth Circuit</span>\n",
       "</h2>\n",
       "<time datetime=\"2019-05-13T18:21:40-0400\">May 13, 2019</time>\n",
       "</div>\n",
       "</a>\n",
       "<div></div>\n",
       "</div>\n",
       "</div>\n",
       "<div class=\"block block-content col-12 col-lg-4\">\n",
       "<div class=\"content-details \">\n",
       "<a class=\"b-inner\" href=\"/aboutadvocacylegislative-alerts/letter-senators-opposing-nomination-michael-truncale-eastern\">\n",
       "<div class=\"b-text\">\n",
       "<h5 class=\"content-type\">Legislative Alert</h5>\n",
       "<h2 class=\"content-title\"><span>Letter to Senators Opposing Nomination of Michael Truncale to the Eastern District of Texas</span>\n",
       "</h2>\n",
       "<time datetime=\"2019-05-09T20:03:24-0400\">May 9, 2019</time>\n",
       "</div>\n",
       "</a>\n",
       "<div></div>\n",
       "</div>\n",
       "</div>\n",
       "<div class=\"block block-content col-12 col-lg-4\">\n",
       "<div class=\"content-details \">\n",
       "<a class=\"b-inner\" href=\"/aboutadvocacylegislative-alerts/letter-support-fy-2020-appropriations-bill-departments-labor-health\">\n",
       "<div class=\"b-text\">\n",
       "<h5 class=\"content-type\">Legislative Alert</h5>\n",
       "<h2 class=\"content-title\"><span>Letter in Support of the FY 2020 Appropriations Bill for the Departments of Labor, Health and Human Services, Education and Related Agencies</span>\n",
       "</h2>\n",
       "<time datetime=\"2019-05-08T15:26:01-0400\">May 8, 2019</time>\n",
       "</div>\n",
       "</a>\n",
       "<div></div>\n",
       "</div>\n",
       "</div>\n",
       "<div class=\"block block-content col-12 col-lg-4\">\n",
       "<div class=\"content-details \">\n",
       "<a class=\"b-inner\" href=\"/aboutadvocacylegislative-alerts/letter-support-comprehensive-addiction-resources-emergency-act\">\n",
       "<div class=\"b-text\">\n",
       "<h5 class=\"content-type\">Legislative Alert</h5>\n",
       "<h2 class=\"content-title\"><span>Letter in Support of the Comprehensive Addiction Resources Emergency Act</span>\n",
       "</h2>\n",
       "<time datetime=\"2019-05-05T15:14:31-0400\">May 5, 2019</time>\n",
       "</div>\n",
       "</a>\n",
       "<div></div>\n",
       "</div>\n",
       "</div>\n",
       "<div class=\"block block-content col-12 col-lg-4\">\n",
       "<div class=\"content-details \">\n",
       "<a class=\"b-inner\" href=\"/aboutadvocacylegislative-alerts/letter-support-transit-worker-and-pedestrian-protection-act\">\n",
       "<div class=\"b-text\">\n",
       "<h5 class=\"content-type\">Legislative Alert</h5>\n",
       "<h2 class=\"content-title\"><span>Letter in Support of the Transit Worker and Pedestrian Protection Act</span>\n",
       "</h2>\n",
       "<time datetime=\"2019-05-01T15:29:20-0400\">May 1, 2019</time>\n",
       "</div>\n",
       "</a>\n",
       "<div></div>\n",
       "</div>\n",
       "</div>\n",
       "<div class=\"block block-content col-12 col-lg-4\">\n",
       "<div class=\"content-details \">\n",
       "<a class=\"b-inner\" href=\"/aboutadvocacylegislative-alerts/letter-urging-representatives-oppose-efforts-advance-flawed-new\">\n",
       "<div class=\"b-text\">\n",
       "<h5 class=\"content-type\">Legislative Alert</h5>\n",
       "<h2 class=\"content-title\"><span>Letter Urging Representatives to Oppose Efforts to Advance a Flawed New NAFTA</span>\n",
       "</h2>\n",
       "<time datetime=\"2019-04-30T16:52:15-0400\">April 30, 2019</time>\n",
       "</div>\n",
       "</a>\n",
       "<div></div>\n",
       "</div>\n",
       "</div>\n",
       "<div class=\"block block-content col-12 col-lg-4\">\n",
       "<div class=\"content-details \">\n",
       "<a class=\"b-inner\" href=\"/aboutadvocacylegislative-alerts/letter-support-legislation-modernize-national-labor-relations-act\">\n",
       "<div class=\"b-text\">\n",
       "<h5 class=\"content-type\">Legislative Alert</h5>\n",
       "<h2 class=\"content-title\"><span>Letter in Support of Legislation to Modernize the National Labor Relations Act</span>\n",
       "</h2>\n",
       "<time datetime=\"2019-04-29T23:41:08-0400\">April 29, 2019</time>\n",
       "</div>\n",
       "</a>\n",
       "<div></div>\n",
       "</div>\n",
       "</div>\n",
       "<div class=\"block block-content col-12 col-lg-4\">\n",
       "<div class=\"content-details \">\n",
       "<a class=\"b-inner\" href=\"/aboutadvocacylegislative-alerts/letter-support-collective-bargaining-rights-public-safety-officers\">\n",
       "<div class=\"b-text\">\n",
       "<h5 class=\"content-type\">Legislative Alert</h5>\n",
       "<h2 class=\"content-title\"><span>Letter in Support of Collective Bargaining Rights for Public Safety Officers</span>\n",
       "</h2>\n",
       "<time datetime=\"2019-04-25T15:18:17-0400\">April 25, 2019</time>\n",
       "</div>\n",
       "</a>\n",
       "<div></div>\n",
       "</div>\n",
       "</div>\n",
       "<div class=\"block block-content col-12 col-lg-4\">\n",
       "<div class=\"content-details \">\n",
       "<a class=\"b-inner\" href=\"/aboutadvocacylegislative-alerts/letter-support-paycheck-fairness-act\">\n",
       "<div class=\"b-text\">\n",
       "<h5 class=\"content-type\">Legislative Alert</h5>\n",
       "<h2 class=\"content-title\"><span>Letter in Support of the Paycheck Fairness Act</span>\n",
       "</h2>\n",
       "<time datetime=\"2019-03-25T12:00:27-0400\">March 25, 2019</time>\n",
       "</div>\n",
       "</a>\n",
       "<div></div>\n",
       "</div>\n",
       "</div>\n",
       "<div class=\"block block-content col-12 col-lg-4\">\n",
       "<div class=\"content-details \">\n",
       "<a class=\"b-inner\" href=\"/aboutadvocacylegislative-alerts/letter-senators-opposing-nomination-naomi-rao-us-court-appeals-dc\">\n",
       "<div class=\"b-text\">\n",
       "<h5 class=\"content-type\">Legislative Alert</h5>\n",
       "<h2 class=\"content-title\"><span>Letter to Senators Opposing Nomination of Naomi Rao to U.S. Court of Appeals D.C. Circuit</span>\n",
       "</h2>\n",
       "<time datetime=\"2019-03-11T12:32:48-0400\">March 11, 2019</time>\n",
       "</div>\n",
       "</a>\n",
       "<div></div>\n",
       "</div>\n",
       "</div>\n",
       "<div class=\"block block-content col-12 col-lg-4\">\n",
       "<div class=\"content-details \">\n",
       "<a class=\"b-inner\" href=\"/aboutadvocacylegislative-alerts/letter-support-fairness-federal-contractors-act\">\n",
       "<div class=\"b-text\">\n",
       "<h5 class=\"content-type\">Legislative Alert</h5>\n",
       "<h2 class=\"content-title\"><span>Letter in Support of the Fairness for Federal Contractors Act</span>\n",
       "</h2>\n",
       "<time datetime=\"2019-03-06T15:53:54-0500\">March 6, 2019</time>\n",
       "</div>\n",
       "</a>\n",
       "<div></div>\n",
       "</div>\n",
       "</div>\n",
       "<div class=\"block block-content col-12 col-lg-4\">\n",
       "<div class=\"content-details \">\n",
       "<a class=\"b-inner\" href=\"/aboutadvocacylegislative-alerts/letter-support-raise-wage-act-2019\">\n",
       "<div class=\"b-text\">\n",
       "<h5 class=\"content-type\">Legislative Alert</h5>\n",
       "<h2 class=\"content-title\"><span>Letter in Support of the Raise the Wage Act of 2019</span>\n",
       "</h2>\n",
       "<time datetime=\"2019-03-05T15:49:38-0500\">March 5, 2019</time>\n",
       "</div>\n",
       "</a>\n",
       "<div></div>\n",
       "</div>\n",
       "</div>\n",
       "<div class=\"block block-content col-12 col-lg-4\">\n",
       "<div class=\"content-details \">\n",
       "<a class=\"b-inner\" href=\"/aboutadvocacylegislative-alerts/letter-support-people-act-2019\">\n",
       "<div class=\"b-text\">\n",
       "<h5 class=\"content-type\">Legislative Alert</h5>\n",
       "<h2 class=\"content-title\"><span>Letter in Support of the \"For the People Act of 2019\"</span>\n",
       "</h2>\n",
       "<time datetime=\"2019-03-05T15:09:34-0500\">March 5, 2019</time>\n",
       "</div>\n",
       "</a>\n",
       "<div></div>\n",
       "</div>\n",
       "</div>\n",
       "</div>\n",
       "</div>\n",
       "<ul class=\"js-pager__items pager list-unstyled\" data-drupal-views-infinite-scroll-pager=\"\">\n",
       "<li class=\"pager__item\">\n",
       "<a class=\"button btn btn-inverse btn-load-more\" href=\"/what-unions-do/social-economic-justice/advocacy/legislative-alerts?tid=All&amp;page=1\" rel=\"next\" title=\"Go to next page\">Load More</a>\n",
       "</li>\n",
       "</ul>\n",
       "</div>\n",
       "</div>\n",
       "</div>\n",
       "</div>\n",
       "</article>\n",
       "</div>\n",
       "</div>\n",
       "</main>\n",
       "<!-- Begin Footer -->\n",
       "<footer class=\"footer site-footer\" role=\"contentinfo\">\n",
       "<div class=\"container\">\n",
       "<div class=\"row\">\n",
       "<div class=\"col-12 col-lg-3 push-lg-9\">\n",
       "<div class=\"social-follow\">\n",
       "<ul class=\"nav navbar-nav social-follow\">\n",
       "<li class=\"list-inline-item facebook\">\n",
       "<a href=\"https://www.facebook.com/aflcio\" target=\"_blank\" title=\"Like us on facebook\"><span class=\"fa fa-facebook\"></span></a>\n",
       "</li>\n",
       "<li class=\"list-inline-item twitter\">\n",
       "<a href=\"https://twitter.com/AFLCIO\" target=\"_blank\" title=\"Follow us on Twitter\"><span class=\"fa fa-twitter\"></span></a>\n",
       "</li>\n",
       "<li class=\"list-inline-item youtube\">\n",
       "<a href=\"https://www.youtube.com/aflcio?sub_confirmation=1\" target=\"_blank\" title=\"Follow us on YouTube\"><span class=\"fa fa-youtube\"></span></a>\n",
       "</li>\n",
       "<li class=\"list-inline-item flickr\">\n",
       "<a href=\"https://www.flickr.com/photos/afl-cio/\" target=\"_blank\" title=\"Follow us on Flickr\"><span class=\"fa fa-flickr\"></span></a>\n",
       "</li>\n",
       "</ul>\n",
       "</div>\n",
       "<div class=\"col-12 footer-email-signup\">\n",
       "<div class=\"block-email-signup email-signup-wrapper\" id=\"block-emailsignupblock\">\n",
       "<h3>Get Email Updates</h3>\n",
       "<form accept-charset=\"UTF-8\" action=\"/what-unions-do/social-economic-justice/advocacy/legislative-alerts\" class=\"email-signup-form row\" data-drupal-selector=\"email-signup-form\" id=\"email-signup-form\" method=\"post\">\n",
       "<input class=\"form-control\" data-drupal-selector=\"edit-config-wrapper\" name=\"config[wrapper]\" type=\"hidden\" value=\"email-signup-wrapper\"/>\n",
       "<input class=\"form-control\" data-drupal-selector=\"edit-config-api-endpoint\" name=\"config[api_endpoint]\" type=\"hidden\" value=\"https://actionnetwork.org/api/v2/forms/4420e7f7-7cd2-4ef6-9092-02996b90a417/submissions\"/>\n",
       "<input class=\"form-control\" data-drupal-selector=\"edit-config-tags\" name=\"config[tags]\" type=\"hidden\" value=\"People - Website Sign Ups\"/>\n",
       "<input class=\"form-control\" data-drupal-selector=\"edit-config-thank-you\" name=\"config[thank_you]\" type=\"hidden\" value=\"Thanks for signing up for email updates!\"/>\n",
       "<div class=\"js-form-item form-item form-type-email js-form-type-email form-item-email-address js-form-item-email-address form-no-label\">\n",
       "<div class=\"form-group\">\n",
       "<input aria-required=\"true\" class=\"form-email required form-control\" data-drupal-selector=\"edit-email-address\" id=\"edit-email-address\" maxlength=\"254\" name=\"email_address\" placeholder=\"Email Address\" required=\"required\" size=\"60\" type=\"email\" value=\"\"/>\n",
       "</div>\n",
       "</div>\n",
       "<div class=\"js-form-item form-item form-type-textfield js-form-type-textfield form-item-postal-code js-form-item-postal-code form-no-label\">\n",
       "<div class=\"form-group\">\n",
       "<input class=\"form-text form-control\" data-drupal-selector=\"edit-postal-code\" id=\"edit-postal-code\" maxlength=\"128\" name=\"postal_code\" placeholder=\"ZIP\" size=\"10\" type=\"text\" value=\"\"/>\n",
       "</div>\n",
       "</div>\n",
       "<input autocomplete=\"off\" class=\"form-control\" data-drupal-selector=\"form-fnqg5r8tlag6fl97y6lkf0htxz1nfkw4ypvrodwcoos\" name=\"form_build_id\" type=\"hidden\" value=\"form-fnQG5R8tlAg6Fl97Y6LkF0hTxz1nFKw4YpvRODWCOOs\"/>\n",
       "<input class=\"form-control\" data-drupal-selector=\"edit-email-signup-form\" name=\"form_id\" type=\"hidden\" value=\"email_signup_form\"/>\n",
       "<div class=\"form-actions js-form-wrapper form-wrapper col-6\" data-drupal-selector=\"edit-actions\" id=\"edit-actions\"><button class=\"button js-form-submit form-submit btn btn-primary btn-arrow w-100\" data-drupal-selector=\"an-submit\" id=\"an-submit\" name=\"op\" type=\"submit\" value=\"Sign Up\">Sign Up</button>\n",
       "</div>\n",
       "</form>\n",
       "<div class=\"signup-form-message\"></div>\n",
       "</div>\n",
       "</div>\n",
       "<div class=\"row sms-signup\">\n",
       "<div class=\"col-1\"><span class=\"afl-icon afl-icon-lg afl-icon-mobile\"></span></div>\n",
       "<div class=\"col-10\">\n",
       "<span class=\"d-block\">Text <strong>WORK</strong> to <strong>235246</strong></span>\n",
       "<small class=\"d-block\">to receive periodic text alerts from the AFL-CIO (message and data rates may apply).</small>\n",
       "</div>\n",
       "</div>\n",
       "<a class=\"btn-boxed btn btn-outline-secondary\" href=\"/contact\">Contact Us</a>\n",
       "</div>\n",
       "<div class=\"col-12 col-lg-9 pull-lg-3 footer-links\">\n",
       "<div class=\"row\">\n",
       "<div class=\"col-12 col-lg-9 push-lg-3\">\n",
       "<ul class=\"nav navbar-nav\">\n",
       "<li class=\"nav-item\">\n",
       "<a class=\"nav-link\" data-drupal-link-system-path=\"node/3\" href=\"/about-us\">About Us</a>\n",
       "<ul class=\"nav navbar-nav\">\n",
       "<li class=\"nav-item\">\n",
       "<a class=\"nav-link\" data-drupal-link-system-path=\"node/49\" href=\"/about/our-unions-and-allies/our-affiliated-unions\">Affiliated Unions</a>\n",
       "</li>\n",
       "<li class=\"nav-item\">\n",
       "<a class=\"nav-link\" data-drupal-link-system-path=\"node/17\" href=\"/about-us/careers-and-apprenticeships\">Careers and Apprenticeships</a>\n",
       "</li>\n",
       "<li class=\"nav-item\">\n",
       "<a class=\"nav-link\" data-drupal-link-system-path=\"node/87\" href=\"/about/leadership/statements\">Executive Council Statements</a>\n",
       "</li>\n",
       "<li class=\"nav-item\">\n",
       "<a class=\"nav-link\" data-drupal-link-system-path=\"node/18\" href=\"/about/history\">Labor History</a>\n",
       "</li>\n",
       "<li class=\"nav-item\">\n",
       "<a class=\"nav-link\" href=\"/about/leadership\">Leadership</a>\n",
       "</li>\n",
       "<li class=\"nav-item\">\n",
       "<a class=\"nav-link\" data-drupal-link-system-path=\"node/13\" href=\"/about-us/our-unions-and-allies\">Our Unions and Allies</a>\n",
       "</li>\n",
       "<li class=\"nav-item\">\n",
       "<a class=\"nav-link\" data-drupal-link-system-path=\"node/14\" href=\"/about/programs\">Programs</a>\n",
       "</li>\n",
       "</ul>\n",
       "</li>\n",
       "<li class=\"nav-item\">\n",
       "<a class=\"nav-link\" data-drupal-link-system-path=\"node/5\" href=\"/blog\">Blog</a>\n",
       "</li>\n",
       "<li class=\"nav-item\">\n",
       "<a class=\"nav-link\" data-drupal-link-system-path=\"node/7\" href=\"/aflciotv\">AFLCIO.tv</a>\n",
       "</li>\n",
       "<li class=\"nav-item\">\n",
       "<a class=\"nav-link\" data-drupal-link-system-path=\"node/9\" href=\"/formaunion\">Form a Union</a>\n",
       "</li>\n",
       "<li class=\"nav-item\">\n",
       "<a class=\"nav-link\" data-drupal-link-system-path=\"node/4\" href=\"/press\">Press</a>\n",
       "<ul class=\"nav navbar-nav\">\n",
       "<li class=\"nav-item\">\n",
       "<a class=\"nav-link\" data-drupal-link-system-path=\"node/19\" href=\"/press/releases\">Press Releases</a>\n",
       "</li>\n",
       "<li class=\"nav-item\">\n",
       "<a class=\"nav-link\" data-drupal-link-system-path=\"node/22\" href=\"/speeches\">Speeches</a>\n",
       "</li>\n",
       "</ul>\n",
       "</li>\n",
       "<li class=\"nav-item\">\n",
       "<a class=\"nav-link\" data-drupal-link-system-path=\"node/11\" href=\"/take-action\">Take Action</a>\n",
       "</li>\n",
       "<li class=\"nav-item\">\n",
       "<a class=\"nav-link\" data-drupal-link-system-path=\"node/6\" href=\"/union-plus-benefits\">Union Plus Benefits</a>\n",
       "</li>\n",
       "<li class=\"nav-item\">\n",
       "<a class=\"nav-link\" data-drupal-link-system-path=\"node/8\" href=\"/what-unions-do\">What Unions Do</a>\n",
       "<ul class=\"nav navbar-nav\">\n",
       "<li class=\"nav-item\">\n",
       "<a class=\"nav-link\" data-drupal-link-system-path=\"node/3102\" href=\"/what-unions-do/social-economic-justice/corporate-accountability\">Corporate Accountability</a>\n",
       "</li>\n",
       "<li class=\"nav-item\">\n",
       "<a class=\"nav-link\" data-drupal-link-system-path=\"node/24\" href=\"/what-unions-do/social-economic-justice\">Social and Economic Justice Advocacy</a>\n",
       "</li>\n",
       "<li class=\"nav-item\">\n",
       "<a class=\"nav-link\" data-drupal-link-system-path=\"node/23\" href=\"/what-unions-do/empower-workers\">Workplace Advocacy</a>\n",
       "</li>\n",
       "</ul>\n",
       "</li>\n",
       "<li class=\"nav-item\">\n",
       "<a class=\"nav-link\" data-drupal-link-system-path=\"node/10\" href=\"/issues\">What We Care About</a>\n",
       "<ul class=\"nav navbar-nav\">\n",
       "<li class=\"nav-item\">\n",
       "<a class=\"nav-link\" href=\"/issues/wages-and-benefits\">Better Pay and Benefits</a>\n",
       "</li>\n",
       "<li class=\"nav-item\">\n",
       "<a class=\"nav-link\" data-drupal-link-system-path=\"taxonomy/term/2111\" href=\"/issues/civil-rights\">Civil Rights</a>\n",
       "</li>\n",
       "<li class=\"nav-item\">\n",
       "<a class=\"nav-link\" data-drupal-link-system-path=\"taxonomy/term/2115\" href=\"/issues/corporate-greed\">Corporate Greed</a>\n",
       "</li>\n",
       "<li class=\"nav-item\">\n",
       "<a class=\"nav-link\" data-drupal-link-system-path=\"taxonomy/term/2085\" href=\"/issues/criminal-justice-reform\">Criminal Justice Reform</a>\n",
       "</li>\n",
       "<li class=\"nav-item\">\n",
       "<a class=\"nav-link\" data-drupal-link-system-path=\"taxonomy/term/2124\" href=\"/issues/gender-equality\">Gender Equality</a>\n",
       "</li>\n",
       "<li class=\"nav-item\">\n",
       "<a class=\"nav-link\" href=\"/issues/global-labor-movement\">Global Worker Rights</a>\n",
       "</li>\n",
       "<li class=\"nav-item\">\n",
       "<a class=\"nav-link\" data-drupal-link-system-path=\"taxonomy/term/2106\" href=\"/issues/health-care\">Health Care</a>\n",
       "</li>\n",
       "<li class=\"nav-item\">\n",
       "<a class=\"nav-link\" data-drupal-link-system-path=\"taxonomy/term/2206\" href=\"/issues/immigration\">Immigration</a>\n",
       "</li>\n",
       "<li class=\"nav-item\">\n",
       "<a class=\"nav-link\" data-drupal-link-system-path=\"taxonomy/term/2254\" href=\"/issues/infrastructure\">Infrastructure</a>\n",
       "</li>\n",
       "<li class=\"nav-item\">\n",
       "<a class=\"nav-link\" data-drupal-link-system-path=\"taxonomy/term/2099\" href=\"/issues/labor-law\">Labor Law</a>\n",
       "</li>\n",
       "<li class=\"nav-item\">\n",
       "<a class=\"nav-link\" data-drupal-link-system-path=\"taxonomy/term/2431\" href=\"/issues/manufacturing\">Manufacturing</a>\n",
       "</li>\n",
       "<li class=\"nav-item\">\n",
       "<a class=\"nav-link\" href=\"/issues/education\">Quality Education</a>\n",
       "</li>\n",
       "<li class=\"nav-item\">\n",
       "<a class=\"nav-link\" data-drupal-link-system-path=\"taxonomy/term/2285\" href=\"/issues/right-work\">Right to Work</a>\n",
       "</li>\n",
       "<li class=\"nav-item\">\n",
       "<a class=\"nav-link\" data-drupal-link-system-path=\"taxonomy/term/3172\" href=\"/issues/sexual-harassment\">Sexual Harassment</a>\n",
       "</li>\n",
       "<li class=\"nav-item\">\n",
       "<a class=\"nav-link\" data-drupal-link-system-path=\"taxonomy/term/2123\" href=\"/issues/social-security-and-retirement\">Social Security and Retirement</a>\n",
       "</li>\n",
       "<li class=\"nav-item\">\n",
       "<a class=\"nav-link\" href=\"https://aflcio.org/issues/tax-and-budget-policy\">Tax and Budget Policy</a>\n",
       "</li>\n",
       "<li class=\"nav-item\">\n",
       "<a class=\"nav-link\" data-drupal-link-system-path=\"taxonomy/term/2094\" href=\"/issues/trade\">Trade</a>\n",
       "</li>\n",
       "<li class=\"nav-item\">\n",
       "<a class=\"nav-link\" data-drupal-link-system-path=\"taxonomy/term/2190\" href=\"/issues/workplace-health-and-safety\">Workplace Health and Safety</a>\n",
       "</li>\n",
       "</ul>\n",
       "</li>\n",
       "<li class=\"nav-item\">\n",
       "<a class=\"nav-link is-active\" data-drupal-link-system-path=\"node/96\" href=\"/what-unions-do/social-economic-justice/advocacy/legislative-alerts\">Legislative Alerts</a>\n",
       "</li>\n",
       "<li class=\"nav-item\">\n",
       "<a class=\"nav-link\" data-drupal-link-system-path=\"node/4339\" href=\"/legislative-scorecard\">Legislative Voting Records</a>\n",
       "</li>\n",
       "<li class=\"nav-item\">\n",
       "<a class=\"nav-link\" data-drupal-link-system-path=\"node/223\" href=\"/reports\">Reports</a>\n",
       "</li>\n",
       "</ul>\n",
       "</div>\n",
       "<div class=\"col-4 col-lg-3 pull-lg-9\">\n",
       "<a href=\"/\"><img alt=\"AFL-CIO Seal\" class=\"aflcio-seal\" src=\"/themes/custom/afl/source/images/seal.svg\"/></a>\n",
       "</div>\n",
       "</div>\n",
       "<div class=\"row\">\n",
       "<div class=\"col-12 col-lg-9 push-lg-3\">\n",
       "<p class=\"copyright\">© 2019 AFL-CIO. All rights reserved.</p>\n",
       "</div>\n",
       "</div>\n",
       "<div class=\"row\">\n",
       "<div class=\"col-12 col-lg-9 push-lg-3\">\n",
       "<ul class=\"nav navbar-nav\">\n",
       "<li class=\"nav-item\">\n",
       "<a class=\"nav-link\" data-drupal-link-system-path=\"node/216\" href=\"/privacy-policy-and-terms-use\">Privacy Policy &amp; Terms of Use</a>\n",
       "</li>\n",
       "</ul>\n",
       "</div>\n",
       "</div>\n",
       "</div>\n",
       "</div>\n",
       "</div>\n",
       "</footer>\n",
       "<!-- End Footer -->\n",
       "</div>\n",
       "<div aria-hidden=\"true\" aria-labelledby=\"Media\" class=\"modal fade media-modal\" id=\"media-modal\" role=\"dialog\" tabindex=\"-1\">\n",
       "<button aria-label=\"Close\" class=\"close\" data-dismiss=\"modal\" type=\"button\">\n",
       "<span aria-hidden=\"true\">×</span>\n",
       "</button>\n",
       "<div class=\"modal-dialog modal-lg container\" role=\"media\">\n",
       "<div class=\"modal-content\">\n",
       "<div class=\"row\">\n",
       "<div class=\"col-12 offset-0 col-md-10 offset-md-1\">\n",
       "<div class=\"row\">\n",
       "<div class=\"col-12 col-md-9\">\n",
       "<h5></h5>\n",
       "<div class=\"h1\"></div>\n",
       "</div>\n",
       "<div class=\"col-12 col-md-3 align-self-end text-md-right\">\n",
       "<div class=\"social-share\">\n",
       "<ul class=\"list-inline social-share-list\">\n",
       "<li class=\"list-inline-item\">\n",
       "<a class=\"facebook-share\" href=\"https://www.facebook.com/sharer.php?u=#\" target=\"_blank\">\n",
       "<span class=\"fa fa-facebook\"></span>\n",
       "</a>\n",
       "</li>\n",
       "<li class=\"list-inline-item\">\n",
       "<a class=\"twitter-share\" href=\"https://twitter.com/intent/tweet?url=#&amp;text=\" target=\"_blank\">\n",
       "<span class=\"fa fa-twitter\"></span>\n",
       "</a>\n",
       "</li>\n",
       "<li class=\"list-inline-item\">\n",
       "<a class=\"email-share\" href=\"/cdn-cgi/l/email-protection#211e075254434b4442551c07434e45581c02\">\n",
       "<span class=\"fa fa-envelope\"></span>\n",
       "</a>\n",
       "</li>\n",
       "</ul>\n",
       "</div>\n",
       "</div>\n",
       "</div>\n",
       "<div class=\"row\">\n",
       "<div class=\"col-12\">\n",
       "<div class=\"media-fluid\"></div>\n",
       "</div>\n",
       "</div>\n",
       "</div>\n",
       "</div>\n",
       "</div>\n",
       "</div>\n",
       "</div>\n",
       "</div>\n",
       "<script data-cfasync=\"false\" src=\"/cdn-cgi/scripts/5c5dd728/cloudflare-static/email-decode.min.js\"></script><script data-drupal-selector=\"drupal-settings-json\" type=\"application/json\">{\"path\":{\"baseUrl\":\"\\/\",\"scriptPath\":null,\"pathPrefix\":\"\",\"currentPath\":\"node\\/96\",\"currentPathIsAdmin\":false,\"isFront\":false,\"currentLanguage\":\"en\"},\"pluralDelimiter\":\"\\u0003\",\"ajaxPageState\":{\"libraries\":\"afl\\/bootstrap,afl\\/global-styling,afl_an\\/osdi_command,afl_site\\/kiosk-mode,core\\/drupal.dialog.ajax,core\\/html5shiv,ctools_views\\/autosubmit,datalayer\\/ajax,datalayer\\/behaviors,fac\\/fac.fac,fac\\/fac.fac_plugin,fac\\/fac.markjs_cdn,paragraphs\\/drupal.paragraphs.unpublished,system\\/base,views\\/views.ajax,views\\/views.module,views_infinite_scroll\\/views-infinite-scroll\",\"theme\":\"afl\",\"theme_token\":null},\"ajaxTrustedUrl\":{\"form_action_p_pvdeGsVG5zNF_XLGPTvYSKCf43t8qZYSwcfZl2uzM\":true,\"\\/email-signup\\/signup\":true,\"\\/what-unions-do\\/social-economic-justice\\/advocacy\\/legislative-alerts\":true},\"dataLayer\":{\"defaultLang\":\"en\",\"languages\":{\"en\":{\"id\":\"en\",\"name\":\"English\",\"direction\":\"ltr\",\"weight\":0}}},\"fac\":{\"paywatch\":{\"id\":\"paywatch\",\"jsonFilesPath\":\"\\/sites\\/default\\/files\\/fac-json\\/paywatch\\/en\\/PFTV77uiuT3RCnW9FPkcX-JqOb3eo33V7odD0jXVIr4\\/\",\"inputSelectors\":\"input.paywatch-search-box\",\"keyMinLength\":1,\"keyMaxLength\":5,\"breakpoint\":0,\"emptyResult\":\"\",\"allResultsLink\":false,\"allResultsLinkThreshold\":0,\"highlightingEnabled\":true,\"resultLocation\":\".paywatch-search-results\"}},\"ajax\":{\"an-submit\":{\"url\":\"\\/email-signup\\/signup\",\"event\":\"mousedown\",\"keypress\":true,\"prevent\":\"click\",\"dialogType\":\"ajax\",\"submit\":{\"_triggering_element_name\":\"op\",\"_triggering_element_value\":\"Sign Up\"}}},\"views\":{\"ajax_path\":\"\\/views\\/ajax\",\"ajaxViews\":{\"views_dom_id:35be676d99c0b5d7d9528fe89c18b18d4b00ed3d6ad8e5617fca414d36383c73\":{\"view_name\":\"tiles\",\"view_display_id\":\"full_listing\",\"view_args\":\"statement\\/alert\\/all\",\"view_path\":\"\\/what-unions-do\\/social-economic-justice\\/advocacy\\/legislative-alerts\",\"view_base_path\":null,\"view_dom_id\":\"35be676d99c0b5d7d9528fe89c18b18d4b00ed3d6ad8e5617fca414d36383c73\",\"pager_element\":0}}},\"user\":{\"uid\":0,\"permissionsHash\":\"9bb6040ce554519c4951a87005d4178fda0300b5ce6a455c38afc0c83104eb9c\"}}</script>\n",
       "<script src=\"/sites/default/files/js/js_Y94VN3ukzGIHQlTapfX5unNbtxvkLV5HUdQ4z1Td2-8.js\"></script>\n",
       "<script src=\"https://cdnjs.cloudflare.com/ajax/libs/mark.js/8.11.1/jquery.mark.min.js\"></script>\n",
       "<script src=\"/sites/default/files/js/js_mOpMQFyZ-poi_GVXJ5jO8hnjRMmOwDfo3nl0F3jhkus.js\"></script>\n",
       "<script type=\"text/javascript\">window.NREUM||(NREUM={});NREUM.info={\"beacon\":\"bam.nr-data.net\",\"licenseKey\":\"5d4af6f314\",\"applicationID\":\"54360456\",\"transactionName\":\"MlABYhRZXRBWVEEKVgsaIlUSUVwNGEdUBFw6VgJVDl0=\",\"queueTime\":0,\"applicationTime\":10,\"atts\":\"HhcCFFxDTh4=\",\"errorBeacon\":\"bam.nr-data.net\",\"agent\":\"\"}</script></body>\n",
       "</html>"
      ]
     },
     "execution_count": 36,
     "metadata": {},
     "output_type": "execute_result"
    }
   ],
   "source": [
    "soup"
   ]
  },
  {
   "cell_type": "code",
   "execution_count": 32,
   "metadata": {},
   "outputs": [
    {
     "data": {
      "text/plain": [
       "'[document]'"
      ]
     },
     "execution_count": 32,
     "metadata": {},
     "output_type": "execute_result"
    }
   ],
   "source": [
    "soup.name"
   ]
  },
  {
   "cell_type": "markdown",
   "metadata": {},
   "source": [
    "![](HTMLDOMTree.png)\n",
    "![](treeStructure.png)"
   ]
  },
  {
   "cell_type": "code",
   "execution_count": 33,
   "metadata": {},
   "outputs": [
    {
     "name": "stdout",
     "output_type": "stream",
     "text": [
      "\">\n",
      "                   Legislative Alert\n",
      "                  </h5>\n",
      "                  <h2 class=\"content-title\">\n",
      "                   <span>\n",
      "                    Letter Opposing Nomination of Daniel Collins to Appeals Court\n",
      "                   </span>\n",
      "                  </h2>\n",
      "                  <time datetime=\"2019-05-21T12:30:01-0400\">\n",
      "                   May 21, 2019\n",
      "                  </time>\n",
      "                 </div>\n",
      "                </a>\n",
      "                <div>\n",
      "                </div>\n",
      "               </div>\n",
      "              </div>\n",
      "              <div class=\"block block-content col-12 col-lg-4\">\n",
      "               <div class=\"content-details \">\n",
      "                <a class=\"b-inner\" href=\"/aboutadvocacylegislative-alerts/letter-senators-opposing-nomination-kenneth-lee-us-court-appeals\">\n",
      "                 <div class=\"b-text\">\n",
      "                  <h5 class=\"content-type\">\n",
      "                   Legislative Alert\n",
      "                  </h5>\n",
      "                  <h2 class=\"content-title\">\n",
      "                   <span>\n",
      "                    Letter to Senators Opposing Nomination of Kenneth Lee to the U.S. Court of Appeals Ninth Circuit\n",
      "                   </span>\n",
      "                  </h2>\n",
      "                  <time datetime=\"2019-05-13T18:21:40-0400\">\n",
      "                   May 13, 2019\n",
      "                  </time>\n",
      "                 </div>\n",
      "                </a>\n",
      "                <div>\n",
      "                </div>\n",
      "               </div>\n",
      "              </div>\n",
      "              <div class=\"block block-content col-12 col-lg-4\">\n",
      "               <div class=\"content-details \">\n",
      "                <a class=\"b-inner\" href=\"/aboutadvocacylegislative-alerts/letter-senators-opposing-nomination-michael-truncale-eastern\">\n",
      "                 <div class=\"b-text\">\n",
      "                  <h5 class=\"content-type\">\n",
      "                   Legislative Alert\n",
      "                  </h5>\n",
      "     \n"
     ]
    }
   ],
   "source": [
    "print(soup.prettify()[28700:30500])\n"
   ]
  },
  {
   "cell_type": "code",
   "execution_count": 34,
   "metadata": {},
   "outputs": [],
   "source": [
    "letters = soup.find_all(\"div\", class_=\"content-details\")"
   ]
  },
  {
   "cell_type": "code",
   "execution_count": 35,
   "metadata": {},
   "outputs": [
    {
     "data": {
      "text/plain": [
       "[<div class=\"content-details \">\n",
       " <a class=\"b-inner\" href=\"/aboutadvocacylegislative-alerts/letter-representatives-support-dream-and-american-promise-act-2019\">\n",
       " <div class=\"b-text\">\n",
       " <h5 class=\"content-type\">Legislative Alert</h5>\n",
       " <h2 class=\"content-title\"><span>Letter to Representatives in Support of the Dream and American Promise Act of 2019</span>\n",
       " </h2>\n",
       " <time datetime=\"2019-06-03T13:51:36-0400\">June 3, 2019</time>\n",
       " </div>\n",
       " </a>\n",
       " <div></div>\n",
       " </div>, <div class=\"content-details \">\n",
       " <a class=\"b-inner\" href=\"/aboutadvocacylegislative-alerts/letter-senators-opposing-nomination-rossie-alston-us-court-appeals\">\n",
       " <div class=\"b-text\">\n",
       " <h5 class=\"content-type\">Legislative Alert</h5>\n",
       " <h2 class=\"content-title\"><span>Letter to Senators Opposing the Nomination of Rossie Alston to the U.S. Court of Appeals for the Eastern District of Virginia</span>\n",
       " </h2>\n",
       " <time datetime=\"2019-06-03T13:35:45-0400\">June 3, 2019</time>\n",
       " </div>\n",
       " </a>\n",
       " <div></div>\n",
       " </div>, <div class=\"content-details \">\n",
       " <a class=\"b-inner\" href=\"/aboutadvocacylegislative-alerts/letter-senators-opposing-nomination-matthew-kacsmaryk-us-district\">\n",
       " <div class=\"b-text\">\n",
       " <h5 class=\"content-type\">Legislative Alert</h5>\n",
       " <h2 class=\"content-title\"><span>Letter to Senators Opposing the Nomination of Matthew Kacsmaryk to the U.S. District Court for the Northern District of Texas</span>\n",
       " </h2>\n",
       " <time datetime=\"2019-05-31T13:43:43-0400\">May 31, 2019</time>\n",
       " </div>\n",
       " </a>\n",
       " <div></div>\n",
       " </div>, <div class=\"content-details \">\n",
       " <a class=\"b-inner\" href=\"/aboutadvocacylegislative-alerts/letter-opposing-howard-nielsons-appointment-district-court\">\n",
       " <div class=\"b-text\">\n",
       " <h5 class=\"content-type\">Legislative Alert</h5>\n",
       " <h2 class=\"content-title\"><span>Letter Opposing Howard Nielson's Appointment to District Court</span>\n",
       " </h2>\n",
       " <time datetime=\"2019-05-21T12:32:48-0400\">May 21, 2019</time>\n",
       " </div>\n",
       " </a>\n",
       " <div></div>\n",
       " </div>, <div class=\"content-details \">\n",
       " <a class=\"b-inner\" href=\"/aboutadvocacylegislative-alerts/letter-opposing-nomination-daniel-collins-appeals-court\">\n",
       " <div class=\"b-text\">\n",
       " <h5 class=\"content-type\">Legislative Alert</h5>\n",
       " <h2 class=\"content-title\"><span>Letter Opposing Nomination of Daniel Collins to Appeals Court</span>\n",
       " </h2>\n",
       " <time datetime=\"2019-05-21T12:30:01-0400\">May 21, 2019</time>\n",
       " </div>\n",
       " </a>\n",
       " <div></div>\n",
       " </div>, <div class=\"content-details \">\n",
       " <a class=\"b-inner\" href=\"/aboutadvocacylegislative-alerts/letter-senators-opposing-nomination-kenneth-lee-us-court-appeals\">\n",
       " <div class=\"b-text\">\n",
       " <h5 class=\"content-type\">Legislative Alert</h5>\n",
       " <h2 class=\"content-title\"><span>Letter to Senators Opposing Nomination of Kenneth Lee to the U.S. Court of Appeals Ninth Circuit</span>\n",
       " </h2>\n",
       " <time datetime=\"2019-05-13T18:21:40-0400\">May 13, 2019</time>\n",
       " </div>\n",
       " </a>\n",
       " <div></div>\n",
       " </div>, <div class=\"content-details \">\n",
       " <a class=\"b-inner\" href=\"/aboutadvocacylegislative-alerts/letter-senators-opposing-nomination-michael-truncale-eastern\">\n",
       " <div class=\"b-text\">\n",
       " <h5 class=\"content-type\">Legislative Alert</h5>\n",
       " <h2 class=\"content-title\"><span>Letter to Senators Opposing Nomination of Michael Truncale to the Eastern District of Texas</span>\n",
       " </h2>\n",
       " <time datetime=\"2019-05-09T20:03:24-0400\">May 9, 2019</time>\n",
       " </div>\n",
       " </a>\n",
       " <div></div>\n",
       " </div>, <div class=\"content-details \">\n",
       " <a class=\"b-inner\" href=\"/aboutadvocacylegislative-alerts/letter-support-fy-2020-appropriations-bill-departments-labor-health\">\n",
       " <div class=\"b-text\">\n",
       " <h5 class=\"content-type\">Legislative Alert</h5>\n",
       " <h2 class=\"content-title\"><span>Letter in Support of the FY 2020 Appropriations Bill for the Departments of Labor, Health and Human Services, Education and Related Agencies</span>\n",
       " </h2>\n",
       " <time datetime=\"2019-05-08T15:26:01-0400\">May 8, 2019</time>\n",
       " </div>\n",
       " </a>\n",
       " <div></div>\n",
       " </div>, <div class=\"content-details \">\n",
       " <a class=\"b-inner\" href=\"/aboutadvocacylegislative-alerts/letter-support-comprehensive-addiction-resources-emergency-act\">\n",
       " <div class=\"b-text\">\n",
       " <h5 class=\"content-type\">Legislative Alert</h5>\n",
       " <h2 class=\"content-title\"><span>Letter in Support of the Comprehensive Addiction Resources Emergency Act</span>\n",
       " </h2>\n",
       " <time datetime=\"2019-05-05T15:14:31-0400\">May 5, 2019</time>\n",
       " </div>\n",
       " </a>\n",
       " <div></div>\n",
       " </div>, <div class=\"content-details \">\n",
       " <a class=\"b-inner\" href=\"/aboutadvocacylegislative-alerts/letter-support-transit-worker-and-pedestrian-protection-act\">\n",
       " <div class=\"b-text\">\n",
       " <h5 class=\"content-type\">Legislative Alert</h5>\n",
       " <h2 class=\"content-title\"><span>Letter in Support of the Transit Worker and Pedestrian Protection Act</span>\n",
       " </h2>\n",
       " <time datetime=\"2019-05-01T15:29:20-0400\">May 1, 2019</time>\n",
       " </div>\n",
       " </a>\n",
       " <div></div>\n",
       " </div>, <div class=\"content-details \">\n",
       " <a class=\"b-inner\" href=\"/aboutadvocacylegislative-alerts/letter-urging-representatives-oppose-efforts-advance-flawed-new\">\n",
       " <div class=\"b-text\">\n",
       " <h5 class=\"content-type\">Legislative Alert</h5>\n",
       " <h2 class=\"content-title\"><span>Letter Urging Representatives to Oppose Efforts to Advance a Flawed New NAFTA</span>\n",
       " </h2>\n",
       " <time datetime=\"2019-04-30T16:52:15-0400\">April 30, 2019</time>\n",
       " </div>\n",
       " </a>\n",
       " <div></div>\n",
       " </div>, <div class=\"content-details \">\n",
       " <a class=\"b-inner\" href=\"/aboutadvocacylegislative-alerts/letter-support-legislation-modernize-national-labor-relations-act\">\n",
       " <div class=\"b-text\">\n",
       " <h5 class=\"content-type\">Legislative Alert</h5>\n",
       " <h2 class=\"content-title\"><span>Letter in Support of Legislation to Modernize the National Labor Relations Act</span>\n",
       " </h2>\n",
       " <time datetime=\"2019-04-29T23:41:08-0400\">April 29, 2019</time>\n",
       " </div>\n",
       " </a>\n",
       " <div></div>\n",
       " </div>, <div class=\"content-details \">\n",
       " <a class=\"b-inner\" href=\"/aboutadvocacylegislative-alerts/letter-support-collective-bargaining-rights-public-safety-officers\">\n",
       " <div class=\"b-text\">\n",
       " <h5 class=\"content-type\">Legislative Alert</h5>\n",
       " <h2 class=\"content-title\"><span>Letter in Support of Collective Bargaining Rights for Public Safety Officers</span>\n",
       " </h2>\n",
       " <time datetime=\"2019-04-25T15:18:17-0400\">April 25, 2019</time>\n",
       " </div>\n",
       " </a>\n",
       " <div></div>\n",
       " </div>, <div class=\"content-details \">\n",
       " <a class=\"b-inner\" href=\"/aboutadvocacylegislative-alerts/letter-support-paycheck-fairness-act\">\n",
       " <div class=\"b-text\">\n",
       " <h5 class=\"content-type\">Legislative Alert</h5>\n",
       " <h2 class=\"content-title\"><span>Letter in Support of the Paycheck Fairness Act</span>\n",
       " </h2>\n",
       " <time datetime=\"2019-03-25T12:00:27-0400\">March 25, 2019</time>\n",
       " </div>\n",
       " </a>\n",
       " <div></div>\n",
       " </div>, <div class=\"content-details \">\n",
       " <a class=\"b-inner\" href=\"/aboutadvocacylegislative-alerts/letter-senators-opposing-nomination-naomi-rao-us-court-appeals-dc\">\n",
       " <div class=\"b-text\">\n",
       " <h5 class=\"content-type\">Legislative Alert</h5>\n",
       " <h2 class=\"content-title\"><span>Letter to Senators Opposing Nomination of Naomi Rao to U.S. Court of Appeals D.C. Circuit</span>\n",
       " </h2>\n",
       " <time datetime=\"2019-03-11T12:32:48-0400\">March 11, 2019</time>\n",
       " </div>\n",
       " </a>\n",
       " <div></div>\n",
       " </div>, <div class=\"content-details \">\n",
       " <a class=\"b-inner\" href=\"/aboutadvocacylegislative-alerts/letter-support-fairness-federal-contractors-act\">\n",
       " <div class=\"b-text\">\n",
       " <h5 class=\"content-type\">Legislative Alert</h5>\n",
       " <h2 class=\"content-title\"><span>Letter in Support of the Fairness for Federal Contractors Act</span>\n",
       " </h2>\n",
       " <time datetime=\"2019-03-06T15:53:54-0500\">March 6, 2019</time>\n",
       " </div>\n",
       " </a>\n",
       " <div></div>\n",
       " </div>, <div class=\"content-details \">\n",
       " <a class=\"b-inner\" href=\"/aboutadvocacylegislative-alerts/letter-support-raise-wage-act-2019\">\n",
       " <div class=\"b-text\">\n",
       " <h5 class=\"content-type\">Legislative Alert</h5>\n",
       " <h2 class=\"content-title\"><span>Letter in Support of the Raise the Wage Act of 2019</span>\n",
       " </h2>\n",
       " <time datetime=\"2019-03-05T15:49:38-0500\">March 5, 2019</time>\n",
       " </div>\n",
       " </a>\n",
       " <div></div>\n",
       " </div>, <div class=\"content-details \">\n",
       " <a class=\"b-inner\" href=\"/aboutadvocacylegislative-alerts/letter-support-people-act-2019\">\n",
       " <div class=\"b-text\">\n",
       " <h5 class=\"content-type\">Legislative Alert</h5>\n",
       " <h2 class=\"content-title\"><span>Letter in Support of the \"For the People Act of 2019\"</span>\n",
       " </h2>\n",
       " <time datetime=\"2019-03-05T15:09:34-0500\">March 5, 2019</time>\n",
       " </div>\n",
       " </a>\n",
       " <div></div>\n",
       " </div>]"
      ]
     },
     "execution_count": 35,
     "metadata": {},
     "output_type": "execute_result"
    }
   ],
   "source": [
    "letters"
   ]
  },
  {
   "cell_type": "code",
   "execution_count": 36,
   "metadata": {},
   "outputs": [
    {
     "name": "stdout",
     "output_type": "stream",
     "text": [
      "<class 'bs4.element.ResultSet'>\n"
     ]
    }
   ],
   "source": [
    "print(type(letters))"
   ]
  },
  {
   "cell_type": "code",
   "execution_count": 37,
   "metadata": {},
   "outputs": [
    {
     "data": {
      "text/plain": [
       "<div class=\"content-details \">\n",
       "<a class=\"b-inner\" href=\"/aboutadvocacylegislative-alerts/letter-representatives-support-dream-and-american-promise-act-2019\">\n",
       "<div class=\"b-text\">\n",
       "<h5 class=\"content-type\">Legislative Alert</h5>\n",
       "<h2 class=\"content-title\"><span>Letter to Representatives in Support of the Dream and American Promise Act of 2019</span>\n",
       "</h2>\n",
       "<time datetime=\"2019-06-03T13:51:36-0400\">June 3, 2019</time>\n",
       "</div>\n",
       "</a>\n",
       "<div></div>\n",
       "</div>"
      ]
     },
     "execution_count": 37,
     "metadata": {},
     "output_type": "execute_result"
    }
   ],
   "source": [
    "letters[0]"
   ]
  },
  {
   "cell_type": "code",
   "execution_count": null,
   "metadata": {},
   "outputs": [],
   "source": []
  },
  {
   "cell_type": "code",
   "execution_count": 60,
   "metadata": {},
   "outputs": [],
   "source": [
    "lobbying = {}\n",
    "for element in letters:\n",
    "    lobbying[element.a.get_text()] = {}"
   ]
  },
  {
   "cell_type": "code",
   "execution_count": 56,
   "metadata": {},
   "outputs": [
    {
     "name": "stdout",
     "output_type": "stream",
     "text": [
      "\n",
      "\n",
      "Legislative Alert\n",
      "Letter to Representatives in Support of the Dream and American Promise Act of 2019\n",
      "\n",
      "June 3, 2019\n",
      "\n",
      "\n"
     ]
    }
   ],
   "source": [
    "print(letters[0].a.get_text())"
   ]
  },
  {
   "cell_type": "code",
   "execution_count": 39,
   "metadata": {},
   "outputs": [
    {
     "data": {
      "text/plain": [
       "'/aboutadvocacylegislative-alerts/letter-representatives-support-dream-and-american-promise-act-2019'"
      ]
     },
     "execution_count": 39,
     "metadata": {},
     "output_type": "execute_result"
    }
   ],
   "source": [
    "letters[0].a[\"href\"]"
   ]
  },
  {
   "cell_type": "code",
   "execution_count": 61,
   "metadata": {},
   "outputs": [],
   "source": [
    "prefix = \"www.aflcio.org\""
   ]
  },
  {
   "cell_type": "code",
   "execution_count": 62,
   "metadata": {},
   "outputs": [],
   "source": [
    "for element in letters:\n",
    "    lobbying[element.a.get_text()][\"link\"] = prefix + element.a[\"href\"]"
   ]
  },
  {
   "cell_type": "code",
   "execution_count": 59,
   "metadata": {},
   "outputs": [
    {
     "data": {
      "text/plain": [
       "<time datetime=\"2019-06-03T13:51:36-0400\">June 3, 2019</time>"
      ]
     },
     "execution_count": 59,
     "metadata": {},
     "output_type": "execute_result"
    }
   ],
   "source": [
    "letters[0].find(\"time\")"
   ]
  },
  {
   "cell_type": "code",
   "execution_count": 63,
   "metadata": {},
   "outputs": [],
   "source": [
    "for element in letters:\n",
    "    date = element.find(\"time\").get_text()\n",
    "    lobbying[element.a.get_text()][\"date\"] = date"
   ]
  },
  {
   "cell_type": "code",
   "execution_count": 64,
   "metadata": {},
   "outputs": [
    {
     "name": "stdout",
     "output_type": "stream",
     "text": [
      "\n",
      "\n",
      "Legislative Alert\n",
      "Letter to Representatives in Support of the Dream and American Promise Act of 2019\n",
      "\n",
      "June 3, 2019\n",
      "\n",
      ": \n",
      "\tlink: www.aflcio.org/aboutadvocacylegislative-alerts/letter-representatives-support-dream-and-american-promise-act-2019\n",
      "\tdate: June 3, 2019\n",
      "\n",
      "\n",
      "\n",
      "\n",
      "Legislative Alert\n",
      "Letter to Senators Opposing the Nomination of Rossie Alston to the U.S. Court of Appeals for the Eastern District of Virginia\n",
      "\n",
      "June 3, 2019\n",
      "\n",
      ": \n",
      "\tlink: www.aflcio.org/aboutadvocacylegislative-alerts/letter-senators-opposing-nomination-rossie-alston-us-court-appeals\n",
      "\tdate: June 3, 2019\n",
      "\n",
      "\n",
      "\n",
      "\n",
      "Legislative Alert\n",
      "Letter to Senators Opposing the Nomination of Matthew Kacsmaryk to the U.S. District Court for the Northern District of Texas\n",
      "\n",
      "May 31, 2019\n",
      "\n",
      ": \n",
      "\tlink: www.aflcio.org/aboutadvocacylegislative-alerts/letter-senators-opposing-nomination-matthew-kacsmaryk-us-district\n",
      "\tdate: May 31, 2019\n",
      "\n",
      "\n",
      "\n",
      "\n",
      "Legislative Alert\n",
      "Letter Opposing Howard Nielson's Appointment to District Court\n",
      "\n",
      "May 21, 2019\n",
      "\n",
      ": \n",
      "\tlink: www.aflcio.org/aboutadvocacylegislative-alerts/letter-opposing-howard-nielsons-appointment-district-court\n",
      "\tdate: May 21, 2019\n",
      "\n",
      "\n",
      "\n",
      "\n",
      "Legislative Alert\n",
      "Letter Opposing Nomination of Daniel Collins to Appeals Court\n",
      "\n",
      "May 21, 2019\n",
      "\n",
      ": \n",
      "\tlink: www.aflcio.org/aboutadvocacylegislative-alerts/letter-opposing-nomination-daniel-collins-appeals-court\n",
      "\tdate: May 21, 2019\n",
      "\n",
      "\n",
      "\n",
      "\n",
      "Legislative Alert\n",
      "Letter to Senators Opposing Nomination of Kenneth Lee to the U.S. Court of Appeals Ninth Circuit\n",
      "\n",
      "May 13, 2019\n",
      "\n",
      ": \n",
      "\tlink: www.aflcio.org/aboutadvocacylegislative-alerts/letter-senators-opposing-nomination-kenneth-lee-us-court-appeals\n",
      "\tdate: May 13, 2019\n",
      "\n",
      "\n",
      "\n",
      "\n",
      "Legislative Alert\n",
      "Letter to Senators Opposing Nomination of Michael Truncale to the Eastern District of Texas\n",
      "\n",
      "May 9, 2019\n",
      "\n",
      ": \n",
      "\tlink: www.aflcio.org/aboutadvocacylegislative-alerts/letter-senators-opposing-nomination-michael-truncale-eastern\n",
      "\tdate: May 9, 2019\n",
      "\n",
      "\n",
      "\n",
      "\n",
      "Legislative Alert\n",
      "Letter in Support of the FY 2020 Appropriations Bill for the Departments of Labor, Health and Human Services, Education and Related Agencies\n",
      "\n",
      "May 8, 2019\n",
      "\n",
      ": \n",
      "\tlink: www.aflcio.org/aboutadvocacylegislative-alerts/letter-support-fy-2020-appropriations-bill-departments-labor-health\n",
      "\tdate: May 8, 2019\n",
      "\n",
      "\n",
      "\n",
      "\n",
      "Legislative Alert\n",
      "Letter in Support of the Comprehensive Addiction Resources Emergency Act\n",
      "\n",
      "May 5, 2019\n",
      "\n",
      ": \n",
      "\tlink: www.aflcio.org/aboutadvocacylegislative-alerts/letter-support-comprehensive-addiction-resources-emergency-act\n",
      "\tdate: May 5, 2019\n",
      "\n",
      "\n",
      "\n",
      "\n",
      "Legislative Alert\n",
      "Letter in Support of the Transit Worker and Pedestrian Protection Act\n",
      "\n",
      "May 1, 2019\n",
      "\n",
      ": \n",
      "\tlink: www.aflcio.org/aboutadvocacylegislative-alerts/letter-support-transit-worker-and-pedestrian-protection-act\n",
      "\tdate: May 1, 2019\n",
      "\n",
      "\n",
      "\n",
      "\n",
      "Legislative Alert\n",
      "Letter Urging Representatives to Oppose Efforts to Advance a Flawed New NAFTA\n",
      "\n",
      "April 30, 2019\n",
      "\n",
      ": \n",
      "\tlink: www.aflcio.org/aboutadvocacylegislative-alerts/letter-urging-representatives-oppose-efforts-advance-flawed-new\n",
      "\tdate: April 30, 2019\n",
      "\n",
      "\n",
      "\n",
      "\n",
      "Legislative Alert\n",
      "Letter in Support of Legislation to Modernize the National Labor Relations Act\n",
      "\n",
      "April 29, 2019\n",
      "\n",
      ": \n",
      "\tlink: www.aflcio.org/aboutadvocacylegislative-alerts/letter-support-legislation-modernize-national-labor-relations-act\n",
      "\tdate: April 29, 2019\n",
      "\n",
      "\n",
      "\n",
      "\n",
      "Legislative Alert\n",
      "Letter in Support of Collective Bargaining Rights for Public Safety Officers\n",
      "\n",
      "April 25, 2019\n",
      "\n",
      ": \n",
      "\tlink: www.aflcio.org/aboutadvocacylegislative-alerts/letter-support-collective-bargaining-rights-public-safety-officers\n",
      "\tdate: April 25, 2019\n",
      "\n",
      "\n",
      "\n",
      "\n",
      "Legislative Alert\n",
      "Letter in Support of the Paycheck Fairness Act\n",
      "\n",
      "March 25, 2019\n",
      "\n",
      ": \n",
      "\tlink: www.aflcio.org/aboutadvocacylegislative-alerts/letter-support-paycheck-fairness-act\n",
      "\tdate: March 25, 2019\n",
      "\n",
      "\n",
      "\n",
      "\n",
      "Legislative Alert\n",
      "Letter to Senators Opposing Nomination of Naomi Rao to U.S. Court of Appeals D.C. Circuit\n",
      "\n",
      "March 11, 2019\n",
      "\n",
      ": \n",
      "\tlink: www.aflcio.org/aboutadvocacylegislative-alerts/letter-senators-opposing-nomination-naomi-rao-us-court-appeals-dc\n",
      "\tdate: March 11, 2019\n",
      "\n",
      "\n",
      "\n",
      "\n",
      "Legislative Alert\n",
      "Letter in Support of the Fairness for Federal Contractors Act\n",
      "\n",
      "March 6, 2019\n",
      "\n",
      ": \n",
      "\tlink: www.aflcio.org/aboutadvocacylegislative-alerts/letter-support-fairness-federal-contractors-act\n",
      "\tdate: March 6, 2019\n",
      "\n",
      "\n",
      "\n",
      "\n",
      "Legislative Alert\n",
      "Letter in Support of the Raise the Wage Act of 2019\n",
      "\n",
      "March 5, 2019\n",
      "\n",
      ": \n",
      "\tlink: www.aflcio.org/aboutadvocacylegislative-alerts/letter-support-raise-wage-act-2019\n",
      "\tdate: March 5, 2019\n",
      "\n",
      "\n",
      "\n",
      "\n",
      "Legislative Alert\n",
      "Letter in Support of the \"For the People Act of 2019\"\n",
      "\n",
      "March 5, 2019\n",
      "\n",
      ": \n",
      "\tlink: www.aflcio.org/aboutadvocacylegislative-alerts/letter-support-people-act-2019\n",
      "\tdate: March 5, 2019\n",
      "\n",
      "\n"
     ]
    }
   ],
   "source": [
    "for item in lobbying.keys():\n",
    "    print(item + \": \" + \"\\n\\t\" + \"link: \" + lobbying[item][\"link\"] + \"\\n\\t\" + \"date: \" + lobbying[item][\"date\"] + \"\\n\\n\" )"
   ]
  },
  {
   "cell_type": "code",
   "execution_count": 74,
   "metadata": {},
   "outputs": [],
   "source": [
    "import os, csv\n",
    "\n",
    "with open(\"lobbying1.csv\", \"w\") as toWrite:\n",
    "    writer = csv.writer(toWrite)#, delimiter=\",\")\n",
    "    writer.writerow([\"name\", \"link\", \"date\"])\n",
    "    for a in lobbying.keys():\n",
    "        writer.writerow([str(a.encode(\"utf-8\")), lobbying[a][\"link\"], lobbying[a][\"date\"]])"
   ]
  },
  {
   "cell_type": "code",
   "execution_count": 71,
   "metadata": {},
   "outputs": [],
   "source": [
    "?csv.writer"
   ]
  },
  {
   "cell_type": "code",
   "execution_count": null,
   "metadata": {
    "collapsed": true
   },
   "outputs": [],
   "source": [
    "import json\n",
    "\n",
    "with open(\"lobbying.json\", \"w\") as writeJSON:\n",
    "    json.dump(lobbying, writeJSON)"
   ]
  }
 ],
 "metadata": {
  "kernelspec": {
   "display_name": "Python 3",
   "language": "python",
   "name": "python3"
  },
  "language_info": {
   "codemirror_mode": {
    "name": "ipython",
    "version": 3
   },
   "file_extension": ".py",
   "mimetype": "text/x-python",
   "name": "python",
   "nbconvert_exporter": "python",
   "pygments_lexer": "ipython3",
   "version": "3.7.0"
  }
 },
 "nbformat": 4,
 "nbformat_minor": 2
}
